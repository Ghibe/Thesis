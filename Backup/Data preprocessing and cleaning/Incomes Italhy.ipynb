{
 "cells": [
  {
   "cell_type": "code",
   "execution_count": null,
   "id": "8d847487",
   "metadata": {},
   "outputs": [],
   "source": [
    "redditi = pd.read_csv(\"new/Dichiarazione_2021_Redditi_2020.csv\")\n",
    "redditi.loc[redditi['Regione'].str.contains(\"Trentino\"), 'Regione'] = \"Trentino-Alto Adige/Südtirol\"#Fix regions\n",
    "redditi.loc[redditi['Regione'].str.contains(\"Emilia\"), 'Regione'] = \"Emilia-Romagna\"\n",
    "redditi.loc[redditi['Regione'].str.contains(\"Friuli\"), 'Regione'] = \"Friuli-Venezia Giulia\"\n",
    "redditi.loc[redditi['Regione'].str.contains(\"Valle\"), 'Regione'] = \"Valle d'Aosta/Vallée d'Aoste\"\n",
    "redditi[\"Comune\"] = redditi[\"Comune\"].str.normalize('NFKD').str.encode('ascii', errors='ignore').str.decode('utf-8')#Fix accents\n",
    "redditi[\"Comune\"] = redditi[\"Comune\"].str.replace(r\"[\\\"\\',]\", '', regex=True)#Fix apostophes\n",
    "redditi[[\"Comune\",\"Other\"]] = redditi[\"Comune\"].str.split(\".\", 1, expand=True)#Remove double names\n",
    "redditi[\"Comune\"] = redditi[\"Comune\"].str.strip()\n",
    "redditi"
   ]
  },
  {
   "cell_type": "code",
   "execution_count": null,
   "id": "e7273e98",
   "metadata": {},
   "outputs": [],
   "source": [
    "regions = pd.read_excel('new/Elenco-comuni-italiani.xls', sheet_name=0) #reads the first sheet of your excel file\n",
    "regions[\"Denominazione in italiano\"] = regions[\"Denominazione in italiano\"].str.upper()#All upper\n",
    "regions[\"Denominazione in italiano\"] = regions[\"Denominazione in italiano\"].str.normalize(\n",
    "    'NFKD').str.encode('ascii', errors='ignore').str.decode('utf-8')#Remove accents\n",
    "regions[\"Denominazione in italiano\"] = regions[\"Denominazione in italiano\"].str.replace(r\"[\\\"\\',]\", '', regex=True)#Remove apostrophes"
   ]
  },
  {
   "cell_type": "code",
   "execution_count": null,
   "id": "c22dd0bd",
   "metadata": {},
   "outputs": [],
   "source": [
    "redditi = pd.merge(redditi, regions, how='inner',left_on=['Comune','Regione'],right_on=['Denominazione in italiano','Denominazione Regione'])\n",
    "redditi[[\"Comune\",\"Regione\",\"2020\",\"Codice Comune formato alfanumerico\"]].to_csv(\"redditi2020modificato.csv\", encoding='utf-8',index=False)"
   ]
  }
 ],
 "metadata": {
  "kernelspec": {
   "display_name": "Python 3 (ipykernel)",
   "language": "python",
   "name": "python3"
  },
  "language_info": {
   "codemirror_mode": {
    "name": "ipython",
    "version": 3
   },
   "file_extension": ".py",
   "mimetype": "text/x-python",
   "name": "python",
   "nbconvert_exporter": "python",
   "pygments_lexer": "ipython3",
   "version": "3.8.8"
  }
 },
 "nbformat": 4,
 "nbformat_minor": 5
}
