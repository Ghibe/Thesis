{
 "cells": [
  {
   "cell_type": "code",
   "execution_count": null,
   "id": "b7012382",
   "metadata": {},
   "outputs": [],
   "source": [
    "import matplotlib.pyplot as plt\n",
    "import numpy as np \n",
    "import pandas as pd \n",
    "import random\n",
    "import math\n",
    "# %matplotlib inline\n",
    "from shapely.geometry import LineString\n",
    "%matplotlib notebook \n",
    "#For interactive\n",
    "\n",
    "import geopandas as gpd\n",
    "import contextily as cx\n",
    "cmap = ['Greys', 'Purples', 'Blues', 'Greens', 'Oranges', 'Reds',\n",
    "        'YlOrBr', 'YlOrRd', 'OrRd', 'PuRd', 'RdPu', 'BuPu',\n",
    "        'GnBu', 'PuBu', 'YlGnBu', 'PuBuGn', 'BuGn', 'YlGn']\n",
    "\n",
    "df = gpd.read_file(r'New/Municipi/Municipi.shp').sort_values(by=['MUNICIPIO']).reset_index().drop([\"index\"],axis = 1)\n",
    "df_wm = df.to_crs(epsg=3857)\n",
    "df"
   ]
  },
  {
   "cell_type": "code",
   "execution_count": null,
   "id": "85b04a9b",
   "metadata": {
    "scrolled": false
   },
   "outputs": [],
   "source": [
    "# import rasterio\n",
    "# west, south, east, north = bbox = df.total_bounds\n",
    "# # south = south +10\n",
    "# bbox\n",
    "# img, ext = cx.bounds2raster(west, south, east, north,\n",
    "#                              \"MilanSmall.tif\",\n",
    "#                              ll=True\n",
    "#                             )"
   ]
  },
  {
   "cell_type": "code",
   "execution_count": null,
   "id": "dcda59a3",
   "metadata": {},
   "outputs": [],
   "source": [
    "%matplotlib inline"
   ]
  },
  {
   "cell_type": "code",
   "execution_count": null,
   "id": "10049454",
   "metadata": {},
   "outputs": [],
   "source": [
    "# df = gpd.read_file(r'New/Limiti01012022_g/Reg01012022_g').reset_index().drop([\"index\"],axis = 1).to_crs(epsg=4326)\n",
    "# points = pd.read_csv(\"clusteringItalia.csv\")\n",
    "# points = points.loc[points[\"cluster\"] == 12]\n",
    "# df[\"test\"] = random.random()\n",
    "# df[\"test\"][0]=0\n",
    "# df.plot(figsize=(10, 10), alpha=0.5, edgecolor='k',column= df[\"test\"],legend=True,\n",
    "#         legend_kwds={'label': \"ASODIJAOSID\"})\n",
    "# plt.axis('off')\n",
    "# df"
   ]
  },
  {
   "cell_type": "code",
   "execution_count": null,
   "id": "ad84fce4",
   "metadata": {},
   "outputs": [],
   "source": [
    "# def calculateWeightedMean(lat, lon, populationsqm, clf):\n",
    "#     avLat = np.average(a=lat[clf > 0], weights=populationsqm[clf > 0]**3)\n",
    "#     avLon = np.average(a=lon[clf > 0], weights=populationsqm[clf > 0]**3)\n",
    "#     return avLon,avLat\n",
    "\n",
    "# clf = IsolationForest( random_state=0).fit_predict(points[[\"lng\",\"lat\"]].values)#Schema a blochi pptx\n",
    "\n",
    "# lonC, latC = calculateWeightedMean(points[\"lat\"], points[\"lng\"], points[\"populPerKm2\"],clf)\n",
    "# point = gpd.points_from_xy([lonC], [latC])\n",
    "# pos = df[df.contains(point[0])][\"DEN_REG\"].values[0]\n",
    "# pos"
   ]
  },
  {
   "cell_type": "code",
   "execution_count": null,
   "id": "24adbb53",
   "metadata": {},
   "outputs": [],
   "source": [
    "# def kmRadius(c): #Define area of attractiveness\n",
    "#     point = Point(c)\n",
    "    \n",
    "#     local_azimuthal_projection = f\"+proj=aeqd +R=6371000 +units=m +lat_0={point.y} +lon_0={point.x}\"\n",
    "\n",
    "#     wgs84_to_aeqd = partial(\n",
    "#         pyproj.transform,\n",
    "#         pyproj.Proj('+proj=longlat +datum=WGS84 +no_defs'),\n",
    "#         pyproj.Proj(local_azimuthal_projection),\n",
    "#     )\n",
    "\n",
    "#     aeqd_to_wgs84 = partial(\n",
    "#         pyproj.transform,\n",
    "#         pyproj.Proj(local_azimuthal_projection),\n",
    "#         pyproj.Proj('+proj=longlat +datum=WGS84 +no_defs'),\n",
    "#     )\n",
    "\n",
    "#     point_transformed = transform(wgs84_to_aeqd, point)\n",
    "\n",
    "#     buffer = point_transformed.buffer(20_000)#Meters\n",
    "\n",
    "#     buffer_wgs84 = transform(aeqd_to_wgs84, buffer)\n",
    "#     dic = mapping(buffer_wgs84)\n",
    "#     return np.asarray(dic['coordinates'])[0]\n",
    "\n",
    "# ##Mean based on: municipalities with more target population per sqmt influence more (can be **2 or **3)\n",
    "# ##Remove far away points from calculation\n",
    "# def calculateWeightedMean(lat, lon, populationsqm, clf):\n",
    "#     avLat = np.average(a=lat[clf > 0], weights=populationsqm[clf > 0]**3)\n",
    "#     avLon = np.average(a=lon[clf > 0], weights=populationsqm[clf > 0]**3)\n",
    "#     return avLon,avLat\n"
   ]
  },
  {
   "cell_type": "code",
   "execution_count": null,
   "id": "793bb9ed",
   "metadata": {},
   "outputs": [],
   "source": [
    "# from sklearn.ensemble import IsolationForest\n",
    "# from shapely.geometry import Point, mapping\n",
    "# from functools import partial\n",
    "# import pyproj\n",
    "# from shapely.ops import transform\n",
    "\n",
    "# # clf = IsolationForest( random_state=0).fit_predict(points[[\"lng\",\"lat\"]].values)#Schema a blochi pptx\n",
    "\n",
    "# # lonC, latC = calculateWeightedMean(points[\"lat\"], points[\"lng\"], points[\"populPerKm2\"],clf)\n",
    "# # circle = kmRadius((lonC,latC))\n",
    "\n",
    "# # xp = np.append(points[\"lng\"].values,np.append(circle[:,0],lonC))\n",
    "# # yp = np.append(points[\"lat\"].values,np.append(circle[:,1],latC))\n",
    "# # zp = np.append(points[\"populPerKm2\"].values,np.append(np.zeros(len(circle[:,1])),0))\n",
    "# # color = np.append(clf,np.append(np.zeros(len(circle[:,1])),5))"
   ]
  },
  {
   "cell_type": "code",
   "execution_count": null,
   "id": "7a36e139",
   "metadata": {},
   "outputs": [],
   "source": [
    "# import shapely\n",
    "# scatt = []\n",
    "# dfObj = pd.DataFrame()\n",
    "\n",
    "# for i in range (0,len(df)):\n",
    "#     if isinstance(df[\"geometry\"][i], shapely.geometry.multipolygon.MultiPolygon):\n",
    "#         for polygon in df[\"geometry\"][i]:\n",
    "#             x = np.asarray(polygon.exterior.coords.xy[0])\n",
    "#             y = np.asarray(polygon.exterior.coords.xy[1])\n",
    "#             z = np.zeros(len(polygon.exterior.coords.xy[1]))\n",
    "#             dfObj = pd.concat([dfObj,pd.DataFrame(x).T, pd.DataFrame(y).T])\n",
    "#             scatt.append(go.Scatter3d(x=x, y=y, z=z,showlegend=False,\n",
    "#                                mode='lines',hovertext =points[\"Territorio\"],name=\"Italy\",\n",
    "#                                marker=dict(\n",
    "#                                     color=\"lime\",                # set color to an array/list of desired values\n",
    "#                                     colorscale='Viridis',   # choose a colorscale\n",
    "#                                     opacity=0.8,\n",
    "#                                 )\n",
    "#                               ))\n",
    "#     else:\n",
    "#         x = np.asarray(df[\"geometry\"][i].exterior.coords.xy[0])\n",
    "#         y = np.asarray(df[\"geometry\"][i].exterior.coords.xy[1])\n",
    "#         z = np.zeros(len(df[\"geometry\"][i].exterior.coords.xy[1]))\n",
    "#         dfObj = pd.concat([dfObj,pd.DataFrame(x).T, pd.DataFrame(y).T])\n",
    "\n",
    "#         scatt.append(go.Scatter3d(x=x, y=y, z=z,showlegend=False,\n",
    "#                                mode='lines',hovertext =points[\"Territorio\"],name=\"Italy\",\n",
    "#                                marker=dict(\n",
    "#                                     color=\"lime\",                # set color to an array/list of desired values\n",
    "#                                     colorscale='Viridis',   # choose a colorscale\n",
    "#                                     opacity=0.8,\n",
    "#                                 )\n",
    "#                               ))\n",
    "# layout = go.Layout(title = '3D Scatter plot')\n",
    "# camera = dict(\n",
    "#     eye=dict(x=0, y=0, z=1),\n",
    "#     up=dict(x=0, y=1, z=0)\n",
    "# )\n",
    "\n",
    "# scatt.append(go.Scatter3d(x=xp, y=yp, z=zp,showlegend=False,\n",
    "#                                    mode='markers',hovertext =points[\"Territorio\"],name=\"cluster points\",\n",
    "#                                    marker=dict(\n",
    "#                                         color=color,                # set color to an array/list of desired values\n",
    "#                                         colorscale='Viridis',   # choose a colorscale\n",
    "#                                         opacity=0.8,\n",
    "#                                     )\n",
    "#                                   ))\n",
    "# fig = go.Figure(data=scatt,\n",
    "#                layout = layout)\n",
    "# fig.update_layout(scene_camera=camera)\n",
    "\n",
    "# fig.show()"
   ]
  },
  {
   "cell_type": "code",
   "execution_count": null,
   "id": "c7ff6f52",
   "metadata": {},
   "outputs": [],
   "source": [
    "# dfObj.to_csv(\"italy.csv\", encoding='utf-8',index=False)"
   ]
  },
  {
   "cell_type": "code",
   "execution_count": null,
   "id": "0951b670",
   "metadata": {},
   "outputs": [],
   "source": [
    "# import plotly.graph_objects as go \n",
    "\n",
    "# # import shapely\n",
    "# scatt = []\n",
    "# dfObj = pd.read_csv(\"italy.csv\") \n",
    "\n",
    "# #Save numpyarray to csv and retrieve then ok go on server\n",
    "# #good luck bro\n",
    "\n",
    "# for i in range (0,len(dfObj),2):\n",
    "#     x = dfObj.loc[i].values\n",
    "#     x = x[~np.isnan(x)]\n",
    "#     y = dfObj.loc[i+1].values\n",
    "#     y = y[~np.isnan(y)]\n",
    "#     scatt.append(go.Scatter3d(x=x, y=y, z=np.zeros(len(x)),showlegend=False,\n",
    "#        mode='lines',hovertext =points[\"Territorio\"],\n",
    "#        marker=dict(\n",
    "#             color=\"lime\",                # set color to an array/list of desired values\n",
    "#             colorscale='Viridis',   # choose a colorscale\n",
    "#             opacity=0.8,\n",
    "#         )\n",
    "#       ))\n",
    "# layout = go.Layout(title = '3D Scatter plot')\n",
    "# camera = dict(\n",
    "#     eye=dict(x=0, y=0, z=1),\n",
    "#     up=dict(x=0, y=1, z=0)\n",
    "# )\n",
    "\n",
    "# scatt.append(go.Scatter3d(x=xp, y=yp, z=zp,showlegend=False,\n",
    "#                                    mode='markers',hovertext =points[\"Territorio\"],\n",
    "#                                    marker=dict(\n",
    "#                                         color=color,                # set color to an array/list of desired values\n",
    "#                                         colorscale='Viridis',   # choose a colorscale\n",
    "#                                         opacity=0.8,\n",
    "#                                     )\n",
    "#                                   ))\n",
    "# fig = go.Figure(data=scatt,\n",
    "#                layout = layout)\n",
    "# fig.update_layout(scene_camera=camera)\n",
    "\n",
    "# fig.show()\n",
    "\n",
    "# # fig.write_html(\"test.html\")"
   ]
  },
  {
   "cell_type": "markdown",
   "id": "ccbf5e15",
   "metadata": {},
   "source": [
    "## Plot Municipi"
   ]
  },
  {
   "cell_type": "code",
   "execution_count": null,
   "id": "4cdebee6",
   "metadata": {},
   "outputs": [],
   "source": [
    "import plotly.graph_objects as go \n",
    "import plotly.express as px\n",
    "\n",
    "\n",
    "# fig = px.choropleth_mapbox(\n",
    "#     df,\n",
    "#     geojson=df,\n",
    "#     locations=df.index,\n",
    "# #     hover_name =df_wm.MUNICIPIO, #Bold name\n",
    "#     hover_data =[df.MUNICIPIO, df.AREA], #Other written\n",
    "#     opacity =0.5,\n",
    "#     color = df.AREA, #Color zones\n",
    "#     center=dict(lat=45.45, lon=9.18),\n",
    "#     mapbox_style=\"open-street-map\",\n",
    "#     zoom=11,\n",
    "#     height = 1000,\n",
    "#     width = 1000,\n",
    "#     labels={'MUNICIPIO':'Municipio','AREA':'area'}\n",
    "# )\n",
    "# fig.update_geos(fitbounds=\"locations\", visible=True)\n",
    "\n",
    "# fig.show()\n",
    "\n",
    "# fig.write_html(\"test.html\")"
   ]
  },
  {
   "cell_type": "code",
   "execution_count": null,
   "id": "46bb6940",
   "metadata": {
    "scrolled": false
   },
   "outputs": [],
   "source": [
    "ax = df_wm.plot(figsize=(10, 10), alpha=0.5, edgecolor='k')\n",
    "cx.add_basemap(ax, source=\"MilanSmall.tif\",reset_extent=True)\n",
    "plt.axis('off')\n",
    "df_wm.apply(lambda x: ax.annotate(text=x['MUNICIPIO'], xy=x.geometry.centroid.coords[0], ha='center',fontsize=20), axis=1);"
   ]
  },
  {
   "cell_type": "markdown",
   "id": "c12430aa",
   "metadata": {},
   "source": [
    "## Plot NIL"
   ]
  },
  {
   "cell_type": "code",
   "execution_count": null,
   "id": "9194e4bc",
   "metadata": {
    "scrolled": false
   },
   "outputs": [],
   "source": [
    "nil = gpd.read_file(r'New/ds964_quartieri.geojson',geometry=\"Location\")\n",
    "nil = nil.set_crs('epsg:4326')\n",
    "nil = nil.to_crs(epsg=3857)\n",
    "nil = pd.merge(nil, pd.read_csv('New/ds964_nil.csv',sep = \";\"),how='inner',left_on=['ID_NIL'],right_on=['ID_NIL'],suffixes=('', '_y'))\n",
    "nil.drop(nil.filter(regex='_y$').columns.tolist(),axis=1, inplace=True)\n",
    "nil = pd.merge(nil, nil.groupby(['Municipio'], as_index = False).sum()[[\"Municipio\",\"Popolazione\"]],how='inner',left_on=['Municipio'],right_on=['Municipio'],suffixes=('', 'Tot'))\n",
    "ax = nil.plot(figsize=(10, 10), alpha=0.5, edgecolor='k')\n",
    "cx.add_basemap(ax, source=\"MilanSmall.tif\")\n",
    "plt.axis('off')\n",
    "nil.apply(lambda x: ax.annotate(text=x['NIL'], xy=x.geometry.centroid.coords[0], ha='center',fontsize=4), axis=1);"
   ]
  },
  {
   "cell_type": "code",
   "execution_count": null,
   "id": "def3aa2b",
   "metadata": {},
   "outputs": [],
   "source": [
    "# nil = nil.drop([\"Valido_dal\",\"Valido_al\",\"Fonte\",\"Location\"],axis =1)#.to_csv(\"nilComplete.csv\", encoding='utf-8',index=False)"
   ]
  },
  {
   "cell_type": "markdown",
   "id": "e9de16eb",
   "metadata": {},
   "source": [
    "### Prepare data to plot"
   ]
  },
  {
   "cell_type": "code",
   "execution_count": null,
   "id": "3db08d5a",
   "metadata": {},
   "outputs": [],
   "source": [
    "popFam = pd.read_csv(\"new/popolazioneFamiglieEtàZoneMilano.csv\")\n",
    "# popFam.loc[(popFam[\"Municipio\"]== 9) & (popFam[\"Classe_eta_capofamiglia\"]== \"80 anni e più\") & (popFam[\"Genere_capofamiglia\"]== \"Femmine\")]\n",
    "popFam  = popFam.groupby(['Municipio','Classe_eta_capofamiglia','Genere_capofamiglia','Numero_componenti','Tipologia_familiare'], as_index=True).agg(\n",
    "    {'Frq':'sum'}).reset_index()\n",
    "#Create dictionaries\n",
    "genere = dict(zip(np.arange(0,len(popFam[\"Genere_capofamiglia\"].unique())), popFam[\"Genere_capofamiglia\"].unique()))\n",
    "classe_eta = dict(zip(np.arange(0,len(popFam[\"Classe_eta_capofamiglia\"].unique())), popFam[\"Classe_eta_capofamiglia\"].unique()))\n",
    "numero_componenti = dict(zip(np.arange(1,len(popFam[\"Numero_componenti\"].unique())+1), popFam[\"Numero_componenti\"].unique()))\n",
    "tipologia_familiare = dict(zip(np.arange(0,len(popFam[\"Tipologia_familiare\"].unique())), popFam[\"Tipologia_familiare\"].unique()))"
   ]
  },
  {
   "cell_type": "code",
   "execution_count": null,
   "id": "a507cf63",
   "metadata": {},
   "outputs": [],
   "source": [
    "#Since have only householder in popFam, need to have data also on kids/teen\n",
    "popZon = pd.read_csv(\"new/ds29_pop_sto_zona.csv\", sep = \";\")\n",
    "popZon = popZon.loc[popZon[\"Anno\"]== 2020]\n",
    "# for col in popZon.columns:\n",
    "#     print(popZon[col].unique())\n",
    "try:\n",
    "    popZon['Eta'] = popZon['Eta'].map(lambda x: x.rstrip('  e più'))\n",
    "except:\n",
    "    print(\"Already done\")\n",
    "    \n",
    "popZon['Eta'] = popZon['Eta'].astype(int)\n",
    "popZon = popZon.loc[popZon[\"Eta\"] < 18]#Keep only part missing from other table\n",
    "bins= [0,3,13,18]\n",
    "labels = ['0-2 anni','3-12 anni','13-17 anni']\n",
    "popZon['Classe_eta_capofamiglia'] = pd.cut(popZon['Eta'], bins=bins, labels=labels, right=False) ##Create age groups\n",
    "\n",
    "popZon = popZon.groupby(['Municipio','Classe_eta_capofamiglia','Genere'], as_index=True).agg({'Residenti':'sum'}).reset_index()\n",
    "popZon[\"Tipologia_familiare\"] = \"Single\"#For consistency\n",
    "popZon3 = popZon.copy()\n",
    "popZon3[\"Frq\"] = (popZon[\"Residenti\"]/2).astype(int)\n",
    "popZon3[\"Numero_componenti\"] = numero_componenti.get(3)\n",
    "popZon3 = popZon3.drop([\"Residenti\"],axis = 1)\n",
    "popZon3[\"Genere_capofamiglia\"] = popZon3[\"Genere\"]\n",
    "popZon3 = popZon3.drop([\"Genere\"],axis = 1)\n",
    "classe_eta.update(dict(zip(np.arange(len(classe_eta),len(popZon3[\"Classe_eta_capofamiglia\"].unique())+len(classe_eta)),\n",
    "                           popZon3[\"Classe_eta_capofamiglia\"].unique())))\n",
    "popMilano = pd.concat([popFam, popZon3])\n",
    "\n",
    "popZon4 = popZon.copy()\n",
    "popZon4[\"Frq\"] = (popZon[\"Residenti\"]/2).astype(int)\n",
    "popZon4[\"Numero_componenti\"] = numero_componenti.get(4)\n",
    "popZon4 = popZon4.drop([\"Residenti\"],axis = 1)\n",
    "popZon4[\"Genere_capofamiglia\"] = popZon4[\"Genere\"]\n",
    "popZon4 = popZon4.drop([\"Genere\"],axis = 1)\n",
    "\n",
    "popMilano = pd.concat([popMilano, popZon4])"
   ]
  },
  {
   "cell_type": "code",
   "execution_count": null,
   "id": "d9f44757",
   "metadata": {},
   "outputs": [],
   "source": [
    "popMilano.to_csv(\"popMilanComplete.csv\", encoding='utf-8',index=False)"
   ]
  },
  {
   "cell_type": "markdown",
   "id": "ae07872d",
   "metadata": {},
   "source": [
    "#### Choose group"
   ]
  },
  {
   "cell_type": "code",
   "execution_count": null,
   "id": "45914193",
   "metadata": {},
   "outputs": [],
   "source": [
    "print(tipologia_familiare)\n",
    "chosenFam = tipologia_familiare.get(3)\n",
    "print(classe_eta)\n",
    "chosenAgeGroup = classe_eta.get(1)\n",
    "print(genere)\n",
    "chosenGender = genere.get(1)\n",
    "print(numero_componenti)\n",
    "chosenNumComp= numero_componenti.get(2)\n",
    "considered = popMilano.loc[(popMilano[\"Classe_eta_capofamiglia\"] == chosenAgeGroup)&\n",
    "                        (popMilano[\"Genere_capofamiglia\"] == chosenGender)&\n",
    "                        (popMilano[\"Tipologia_familiare\"] == chosenFam)&\n",
    "                        (popMilano[\"Numero_componenti\"] == chosenNumComp)]\n",
    "considered = considered.sort_values(by=['Municipio']).reset_index().drop([\"index\"],axis = 1)# Sort \n",
    "considered"
   ]
  },
  {
   "cell_type": "markdown",
   "id": "e67d8d8d",
   "metadata": {},
   "source": [
    "### Plot Municipi selected group"
   ]
  },
  {
   "cell_type": "code",
   "execution_count": null,
   "id": "75be65f4",
   "metadata": {
    "scrolled": false
   },
   "outputs": [],
   "source": [
    "%matplotlib inline\n",
    "vmin = considered[\"Frq\"].min()\n",
    "if not math.isnan(vmin) and len(considered[\"Frq\"]) == len(df_wm):\n",
    "    fig, ax = plt.subplots(figsize=(15, 15))\n",
    "    color = cmap[random.randint(0,len(cmap)-1)]\n",
    "    vmax = considered[\"Frq\"].max()\n",
    "    step = (vmax-vmin)/9\n",
    "    \n",
    "    df_wm.plot(column= considered[\"Frq\"], alpha=0.5, edgecolor='k', vmin = vmin, \n",
    "               vmax = vmax,cmap =color, ax=ax, legend=True, \n",
    "               legend_kwds={'label': 'Numero di %s, %s, %s' %(chosenFam,chosenGender,chosenAgeGroup),\n",
    "                            'orientation': \"horizontal\",\"location\": \"top\",\"shrink\":0.87,\n",
    "                            \"ticks\": np.arange(vmin,vmax+step,step).astype(int)})\n",
    "    color = cmap[random.randint(0,len(cmap)-1)]  \n",
    "    cx.add_basemap(ax,source=\"milanSmall.tif\")\n",
    "    plt.axis('off')\n",
    "    df_wm.apply(lambda x: ax.annotate(text=x['MUNICIPIO'], xy=x.geometry.centroid.coords[0], ha='center',fontsize=20), axis=1)\n",
    "else:\n",
    "    print(\"Not enough values for chosen parameters\")"
   ]
  },
  {
   "cell_type": "code",
   "execution_count": null,
   "id": "f9c94247",
   "metadata": {},
   "outputs": [],
   "source": [
    "# fig = px.choropleth_mapbox(\n",
    "#     df,\n",
    "#     geojson=df,\n",
    "#     locations=df.index,\n",
    "# #     hover_name =df_wm.MUNICIPIO, #Bold name\n",
    "#     hover_data =[df.MUNICIPIO], #Other written\n",
    "#     opacity =0.5,\n",
    "#     color = considered[\"Frq\"], #Color zones\n",
    "#     center=dict(lat=45.45, lon=9.18),\n",
    "#     mapbox_style=\"open-street-map\",\n",
    "#     zoom=11,\n",
    "#     height = 1000,\n",
    "#     width = 1000,\n",
    "#     labels={'MUNICIPIO':'Municipio','Frq':'Numero', 'color': 'Quantità'},\n",
    "#     color_continuous_scale = \"peach\",\n",
    "#     title = 'Numero di %s, %s, %s' %(chosenFam,chosenGender,chosenAgeGroup)\n",
    "# )\n",
    "# fig.update_geos(fitbounds=\"locations\", visible=True)\n",
    "\n",
    "# fig.show()\n",
    "\n",
    "# fig.write_html(\"test.html\")"
   ]
  },
  {
   "cell_type": "markdown",
   "id": "07bb9730",
   "metadata": {},
   "source": [
    "### Plot NIL selected group"
   ]
  },
  {
   "cell_type": "code",
   "execution_count": null,
   "id": "b1e54cae",
   "metadata": {
    "scrolled": false
   },
   "outputs": [],
   "source": [
    "#Divide in NIL based on population (*popNil/sumpopNil)\n",
    "#Pop given in pdf document 2020\n",
    "consideredNIL = pd.merge(nil,considered,how='inner',left_on=['Municipio'],right_on=['Municipio'],suffixes=('', '_y'))\n",
    "consideredNIL[\"RelFrq\"] = consideredNIL[\"Frq\"]*consideredNIL[\"Popolazione\"]/consideredNIL[\"PopolazioneTot\"]\n",
    "vmin = consideredNIL[\"RelFrq\"].min()\n",
    "if not math.isnan(vmin) and len(consideredNIL[\"RelFrq\"]) == len(nil):\n",
    "    fig, ax = plt.subplots(figsize=(15, 15))\n",
    "    color = cmap[random.randint(0,len(cmap)-1)]\n",
    "    vmax = consideredNIL[\"RelFrq\"].max()\n",
    "    step = (vmax-vmin)/9\n",
    "    consideredNIL.plot(column= consideredNIL[\"RelFrq\"], alpha=0.5, edgecolor='k', vmin = vmin, \n",
    "               vmax = vmax,cmap =color, ax=ax, legend=True, \n",
    "               legend_kwds={'label': 'Numero di %s, %s, %s' %(chosenFam,chosenGender,chosenAgeGroup),\n",
    "                            'orientation': \"horizontal\",\"location\": \"top\",\"shrink\":0.87,\n",
    "                            \"ticks\": np.arange(vmin,vmax+step,step).astype(int)})\n",
    "    color = cmap[random.randint(0,len(cmap)-1)]  \n",
    "    cx.add_basemap(ax, source=\"milanSmall.tif\")\n",
    "    plt.axis('off')\n",
    "    consideredNIL.apply(lambda x: ax.annotate(text=x['NIL'], xy=x.geometry.centroid.coords[0], ha='center',fontsize=7), axis=1);\n",
    "else:\n",
    "    print(\"Not enough values for chosen parameters\")"
   ]
  },
  {
   "cell_type": "code",
   "execution_count": null,
   "id": "224cfe9e",
   "metadata": {},
   "outputs": [],
   "source": [
    "# for i in range (1,10):\n",
    "#     popMilano.loc[popMilano[\"Municipio\"] ==i,\"Distribution\"] =  popMilano.loc[popMilano[\"Municipio\"] ==i,\"Frq\"]/popMilano.loc[popMilano[\"Municipio\"] ==i,\"Frq\"].sum()\n",
    "    \n",
    "# # #Pop given in pdf document 2020\n",
    "# consideredNIL = pd.merge(nil,considered,how='inner',left_on=['Municipio'],right_on=['Municipio'],suffixes=('', '_y'))\n",
    "# consideredNIL[\"RelFrq\"] = consideredNIL[\"Distribution\"]*consideredNIL[\"Popolazione\"]\n",
    "# vmin = consideredNIL[\"RelFrq\"].min()\n",
    "# if not math.isnan(vmin) and len(consideredNIL[\"RelFrq\"]) == len(nil):\n",
    "#     fig, ax = plt.subplots(figsize=(15, 15))\n",
    "#     color = cmap[random.randint(0,len(cmap)-1)]\n",
    "#     vmax = consideredNIL[\"RelFrq\"].max()\n",
    "#     step = (vmax-vmin)/9\n",
    "#     consideredNIL.plot(column= consideredNIL[\"RelFrq\"], alpha=0.5, edgecolor='k', vmin = vmin, \n",
    "#                vmax = vmax,cmap =color, ax=ax, legend=True, \n",
    "#                legend_kwds={'label': 'Numero di %s, %s, %s' %(chosenFam,chosenGender,chosenAgeGroup),\n",
    "#                             'orientation': \"horizontal\",\"location\": \"top\",\"shrink\":0.87,\n",
    "#                             \"ticks\": np.arange(vmin,vmax+step,step).astype(int)})\n",
    "#     color = cmap[random.randint(0,len(cmap)-1)]  \n",
    "#     cx.add_basemap(ax, source=\"milanSmall.tif\")\n",
    "#     plt.axis('off')\n",
    "#     consideredNIL.apply(lambda x: ax.annotate(text=x['NIL'], xy=x.geometry.centroid.coords[0], ha='center',fontsize=7), axis=1);\n",
    "# else:\n",
    "#     print(\"Not enough values for chosen parameters\")"
   ]
  },
  {
   "cell_type": "code",
   "execution_count": null,
   "id": "6fc9fbed",
   "metadata": {},
   "outputs": [],
   "source": [
    "# nila =  pd.read_csv(\"nilComplete.csv\")\n",
    "# nil = gpd.GeoDataFrame(\n",
    "#     nila.loc[:, [c for c in nila.columns if c != \"geometry\"]],\n",
    "#     geometry=gpd.GeoSeries.from_wkt(nila[\"geometry\"]))\n",
    "# # nil = gpd.read_file(r'New/ds964_quartieri.geojson',geometry=\"Location\")\n",
    "# # # nil = nil.set_crs('epsg:4326')\n",
    "# # # nil = nil.to_crs(epsg=3857)\n",
    "# # nil = pd.merge(nil, pd.read_csv('New/ds964_nil.csv',sep = \";\"),how='inner',left_on=['ID_NIL'],right_on=['ID_NIL'],suffixes=('', '_y'))\n",
    "# # nil.drop(nil.filter(regex='_y$').columns.tolist(),axis=1, inplace=True)\n",
    "# # nil = pd.merge(nil, nil.groupby(['Municipio'], as_index = False).sum()[[\"Municipio\",\"Popolazione\"]],how='inner',left_on=['Municipio'],right_on=['Municipio'],suffixes=('', 'Tot'))\n",
    "# # ax = nil.plot(figsize=(10, 10), alpha=0.5, edgecolor='k')\n",
    "# # cx.add_basemap(ax, source=\"milanMap.tif\")\n",
    "# # plt.axis('off')\n",
    "# # nil.apply(lambda x: ax.annotate(text=x['NIL'], xy=x.geometry.centroid.coords[0], ha='center',fontsize=4), axis=1);"
   ]
  },
  {
   "cell_type": "code",
   "execution_count": null,
   "id": "01eb76b8",
   "metadata": {},
   "outputs": [],
   "source": [
    "# consideredNIL = pd.merge(nil,considered,how='inner',left_on=['Municipio'],right_on=['Municipio'],suffixes=('', '_y'))\n",
    "# consideredNIL[\"RelFrq\"] = (consideredNIL[\"Frq\"]*consideredNIL[\"Popolazione\"]/consideredNIL[\"PopolazioneTot\"]).astype(int)\n",
    "# fig = px.choropleth_mapbox(\n",
    "#     nil,\n",
    "#     geojson=nil,\n",
    "#     locations=nil.index,\n",
    "#     hover_name =nil.NIL, #Bold name\n",
    "# #     hover_data =[nil.NIL], #Other written\n",
    "#     opacity =0.5,\n",
    "#     color = consideredNIL[\"RelFrq\"], #Color zones\n",
    "#     center=dict(lat=45.45, lon=9.18),\n",
    "#     mapbox_style=\"open-street-map\",\n",
    "#     zoom=11,\n",
    "#     height = 1000,\n",
    "#     width = 1000,\n",
    "#     labels={'NIL':'Quartiere','RelFrq':'Quantità', 'color': 'Quantità'},\n",
    "#     color_continuous_scale = \"peach\",\n",
    "#     title = 'Numero di %s, %s, %s' %(chosenFam,chosenGender,chosenAgeGroup)\n",
    "# )\n",
    "# fig.update_geos(fitbounds=\"locations\", visible=True)\n",
    "\n",
    "# fig.show()\n",
    "# print(type(nil))\n",
    "# fig.write_html(\"test.html\")"
   ]
  },
  {
   "cell_type": "code",
   "execution_count": null,
   "id": "4361c03a",
   "metadata": {},
   "outputs": [],
   "source": [
    "nil"
   ]
  },
  {
   "cell_type": "markdown",
   "id": "8f9c7c2d",
   "metadata": {},
   "source": [
    "### Find which category is max in Milan Centre"
   ]
  },
  {
   "cell_type": "code",
   "execution_count": null,
   "id": "d83db7fa",
   "metadata": {},
   "outputs": [],
   "source": [
    "# mun1 = pd.concat([popZon.loc[(popZon[\"Municipio\"] ==1)],popFam.loc[(popFam[\"Municipio\"] ==1)]])\n",
    "# for tf in tipologia_familiare:\n",
    "#     for ce in classe_eta:\n",
    "#         for g in genere:\n",
    "#             for nc in numero_componenti:\n",
    "#                 chosenFam = tipologia_familiare.get(tf)\n",
    "#                 chosenAgeGroup = classe_eta.get(ce)\n",
    "#                 chosenGender = genere.get(g)\n",
    "#                 chosenNumComp= numero_componenti.get(nc)\n",
    "#                 if chosenAgeGroup == \"0-2 anni\" or chosenAgeGroup == \"3-12 anni\" or chosenAgeGroup == \"13-17 anni\":\n",
    "#                     considered = popZon.loc[(popZon[\"Classe_eta\"] == chosenAgeGroup)&\n",
    "#                             (popZon[\"Genere\"] == chosenGender)&\n",
    "#                             (popZon[\"Tipologia_familiare\"] == chosenFam)]\n",
    "#                 else:\n",
    "#                     considered = popFam.loc[(popFam[\"Classe_eta_capofamiglia\"] == chosenAgeGroup)&\n",
    "#                             (popFam[\"Genere_capofamiglia\"] == chosenGender)&\n",
    "#                             (popFam[\"Tipologia_familiare\"] == chosenFam)&\n",
    "#                             (popFam[\"Numero_componenti\"] == chosenNumComp)]\n",
    "#                 considered = considered.sort_values(by=['Municipio']).reset_index().drop([\"index\"],axis = 1)# Sort \n",
    "#                 if considered.empty:\n",
    "#                     ;\n",
    "#                 elif not considered.loc[considered[\"Municipio\"]==1].index == considered[\"Frq\"].idxmin():\n",
    "#                     if considered.loc[considered[\"Municipio\"]==1].index == considered[\"Frq\"].idxmax():\n",
    "#                         print(considered)\n",
    "#                 #print(considered)"
   ]
  },
  {
   "cell_type": "markdown",
   "id": "5ade8712",
   "metadata": {},
   "source": [
    "### Add house prices"
   ]
  },
  {
   "cell_type": "code",
   "execution_count": null,
   "id": "9e86953d",
   "metadata": {},
   "outputs": [],
   "source": [
    "prices = gpd.read_file(\"New/StreetPricesGeometry.csv\",GEOM_POSSIBLE_NAMES=\"geometry\", \n",
    "                       KEEP_GEOM_COLUMNS=\"NO\")\n",
    "prices['Vendita(euro/m2)'] = pd.to_numeric(prices[\"Vendita(euro/m2)\"])\n",
    "prices['Affitto(euro/m2)'] = pd.to_numeric(prices[\"Affitto(euro/m2)\"])\n",
    "# prices = prices.set_crs('epsg:4326')\n",
    "# prices = prices.to_crs(epsg=3857)\n",
    "prices"
   ]
  },
  {
   "cell_type": "code",
   "execution_count": null,
   "id": "1a2add30",
   "metadata": {},
   "outputs": [],
   "source": [
    "# import seaborn as sns\n",
    "\n",
    "# heatmap = sns.heatmap(prices.corr(), vmin=-1, vmax=1, annot=True)\n",
    "# heatmap.set_title('Correlation Heatmap', fontdict={'fontsize':12}, pad=12);"
   ]
  },
  {
   "cell_type": "code",
   "execution_count": null,
   "id": "733b5ffb",
   "metadata": {},
   "outputs": [],
   "source": [
    "from sklearn.ensemble import IsolationForest\n",
    "clf = IsolationForest( random_state=0,contamination = 0.05).fit_predict(np.array((prices[\"geometry\"].x,prices[\"geometry\"].y)).T)#geometry\n",
    "prices = prices[clf>0]"
   ]
  },
  {
   "cell_type": "code",
   "execution_count": null,
   "id": "f45e65e0",
   "metadata": {},
   "outputs": [],
   "source": [
    "# prices.to_csv(\"pricesTot.csv\", encoding='utf-8',index=False)"
   ]
  },
  {
   "cell_type": "code",
   "execution_count": null,
   "id": "3f8d4498",
   "metadata": {},
   "outputs": [],
   "source": [
    "def on_pick(event,x):\n",
    "    val = event.mouseevent.ydata#Value in colorbar, need to find bucket\n",
    "    lowBucket = ticks[ticks < val].max()\n",
    "\n",
    "    pricesSelected = prices.loc[prices[\"Vendita(euro/m2)\"].between\n",
    "                                (ticks[np.where(ticks == lowBucket)][0],ticks[np.where(ticks == lowBucket)[0]+1][0])]\n",
    "    ax.set_title(event.mouseevent.ydata)\n",
    "    x.clear()\n",
    "    df_wm.plot(column= considered[\"Frq\"], alpha=0.3, edgecolor='k',cmap =color, ax=ax,\n",
    "                   legend_kwds={'label': 'Numero di %s, %s, %s' %(chosenFam,chosenGender,chosenAgeGroup),\n",
    "                            'orientation': \"horizontal\",\"location\": \"top\",\"shrink\":0.87,\n",
    "                               \"ticks\": np.arange(vmin,vmax+step,step).astype(int)})\n",
    "    x = pricesSelected.plot(column = pricesSelected[\"Vendita(euro/m2)\"],alpha=1, edgecolor='k', vmin = vmin, \n",
    "                   vmax = vmax,cmap =\"Pastel1\", ax=ax, #legend=True, \n",
    "                   legend_kwds={'label': 'Prezzi case €/m2',\n",
    "                                'orientation': \"horizontal\",\"location\": \"top\",\"shrink\":0.87,\n",
    "                                \"ticks\": ticks} )\n",
    "    cx.add_basemap(ax,source=\"milanMap.tif\")\n",
    "    plt.axis('off')\n",
    "\n",
    "def drawMap():\n",
    "    cx.add_basemap(ax, source=\"milanMap.tif\")\n",
    "    vmin = considered[\"Frq\"].min()\n",
    "    vmax = considered[\"Frq\"].max()\n",
    "    step = (vmax-vmin)/9\n",
    "    df_wm.plot(column= considered[\"Frq\"], alpha=0.3, edgecolor='k', vmin = vmin, \n",
    "                   vmax = vmax,cmap =color, ax=ax, legend=True, \n",
    "                   legend_kwds={'label': 'Numero di %s, %s, %s' %(chosenFam,chosenGender,chosenAgeGroup),\n",
    "                            'orientation': \"horizontal\",\"location\": \"top\",\"shrink\":0.87,\n",
    "                               \"ticks\": np.arange(vmin,vmax+step,step).astype(int)})\n",
    "def drawPrices():\n",
    "    x = pricesSelected.plot(column = pricesSelected[\"Vendita(euro/m2)\"],alpha=1, edgecolor='k', vmin = vmin, \n",
    "                   vmax = vmax,cmap =\"Pastel1\", ax=ax, #legend=True, \n",
    "                   legend_kwds={'label': 'Prezzi case €/m2',\n",
    "                                'orientation': \"horizontal\",\"location\": \"top\",\"shrink\":0.87,\n",
    "                                \"ticks\": ticks} )\n",
    "\n",
    "    # add colorbar\n",
    "    fig = ax.get_figure()\n",
    "    sm = plt.cm.ScalarMappable(cmap=\"Pastel1\", norm=plt.Normalize(vmin=vmin, vmax=vmax))\n",
    "    sm._A = []\n",
    "    cbar = fig.colorbar(sm, ax=ax, label = \"Prezzi €/m2\", ticks = ticks)\n",
    "    cbar.ax.set_picker(True)#Colorbar pickable\n",
    "    fig.canvas.mpl_connect('pick_event', lambda event: on_pick(event,x))\n",
    "    plt.axis('off');"
   ]
  },
  {
   "cell_type": "code",
   "execution_count": null,
   "id": "98126e88",
   "metadata": {
    "scrolled": false
   },
   "outputs": [],
   "source": [
    "# fig, ax = plt.subplots(figsize=(10, 10))\n",
    "# pricesSelected = prices\n",
    "# vmin = pricesSelected[\"Vendita(euro/m2)\"].min()\n",
    "# vmax = pricesSelected[\"Vendita(euro/m2)\"].max()\n",
    "# step = (vmax-vmin)/9\n",
    "# ticks = np.arange(vmin,vmax+step,step).astype(int)\n",
    "# drawPrices()\n",
    "# drawMap()"
   ]
  },
  {
   "cell_type": "code",
   "execution_count": null,
   "id": "55d5d307",
   "metadata": {},
   "outputs": [],
   "source": [
    "import plotly.express as px\n",
    "\n",
    "fig = px.choropleth_mapbox(\n",
    "    opacity =0.5,\n",
    "    center=dict(lat=45.45, lon=9.18),\n",
    "    mapbox_style=\"open-street-map\",\n",
    "    zoom=11,\n",
    "    height = 600,\n",
    "    width = 600,\n",
    "    color_discrete_sequence = px.colors.sequential.Plasma_r,\n",
    "    title = 'House prices in Milan'\n",
    ")\n",
    "fig.update_geos(fitbounds=\"locations\", visible=True)\n",
    "\n",
    "fig.add_scattermapbox(\n",
    "    lat = prices.geometry.y,\n",
    "    lon = prices.geometry.x,\n",
    "    mode = 'markers+text',\n",
    "#     text = texts,\n",
    "    marker_size=12,\n",
    "    marker=dict(\n",
    "        showscale=True,\n",
    "        color = prices[\"Vendita(euro/m2)\"],\n",
    "#             colorscale='algae',\n",
    "        colorbar = dict(\n",
    "            nticks = 15,\n",
    "            title = \"Price euro/m2\"\n",
    "        )\n",
    "    ),\n",
    "    hovertext  =prices.Indirizzo\n",
    ")\n",
    "\n",
    "\n",
    "fig.show()\n",
    "\n",
    "fig.write_html(\"pricesMilan.html\",include_plotlyjs=True)"
   ]
  },
  {
   "cell_type": "markdown",
   "id": "36dce205",
   "metadata": {},
   "source": [
    "### Incomes"
   ]
  },
  {
   "cell_type": "code",
   "execution_count": null,
   "id": "0742f6c1",
   "metadata": {
    "scrolled": true
   },
   "outputs": [],
   "source": [
    "capZone = gpd.read_file(r'New/banchedati-cap-zone-demo-database').sort_values(by=['CAP']).reset_index().drop([\"index\"],axis = 1)\n",
    "# capZone = capZone.to_crs(epsg=3857)"
   ]
  },
  {
   "cell_type": "code",
   "execution_count": null,
   "id": "18b65287",
   "metadata": {},
   "outputs": [],
   "source": [
    "ax = capZone.iloc[:39].plot(figsize=(10, 10), alpha=0.5, edgecolor='k')\n",
    "cx.add_basemap(ax, source=\"milanMap.tif\")\n",
    "plt.axis('off')\n",
    "capZone.iloc[:39].apply(lambda x: ax.annotate(text=x['CAP'], xy=x.geometry.centroid.coords[0], ha='center',fontsize=15), axis=1);"
   ]
  },
  {
   "cell_type": "code",
   "execution_count": null,
   "id": "d21bf7d9",
   "metadata": {},
   "outputs": [],
   "source": [
    "redditi = pd.read_csv(\"New/redditi_e_principali_variabili_irpef_su_base_subcomunale_csv_2019.csv\", sep = \";\")\n",
    "useful = [ 'Reddito complessivo minore o uguale a zero euro - Frequenza',\n",
    " 'Reddito complessivo minore o uguale a zero euro - Ammontare in euro',\n",
    " 'Reddito complessivo da 0 a 10000 euro - Frequenza',\n",
    " 'Reddito complessivo da 0 a 10000 euro - Ammontare in euro',\n",
    " 'Reddito complessivo da 10000 a 15000 euro - Frequenza',\n",
    " 'Reddito complessivo da 10000 a 15000 euro - Ammontare in euro',\n",
    " 'Reddito complessivo da 15000 a 26000 euro - Frequenza',\n",
    " 'Reddito complessivo da 15000 a 26000 euro - Ammontare in euro',\n",
    " 'Reddito complessivo da 26000 a 55000 euro - Frequenza',\n",
    " 'Reddito complessivo da 26000 a 55000 euro - Ammontare in euro',\n",
    " 'Reddito complessivo da 55000 a 75000 euro - Frequenza',\n",
    " 'Reddito complessivo da 55000 a 75000 euro - Ammontare in euro',\n",
    " 'Reddito complessivo da 75000 a 120000 euro - Frequenza',\n",
    " 'Reddito complessivo da 75000 a 120000 euro - Ammontare in euro',\n",
    " 'Reddito complessivo oltre 120000 euro - Frequenza',\n",
    " 'Reddito complessivo oltre 120000 euro - Ammontare in euro']\n",
    "redditi = redditi.loc[redditi[\"Redditi e variabili IRPEF\"].isin(useful)]"
   ]
  },
  {
   "cell_type": "code",
   "execution_count": null,
   "id": "dd827f03",
   "metadata": {},
   "outputs": [],
   "source": [
    "# redditi.to_csv(\"incomes.csv\", encoding='utf-8',index=False)"
   ]
  },
  {
   "cell_type": "code",
   "execution_count": null,
   "id": "f985ddad",
   "metadata": {},
   "outputs": [],
   "source": [
    "chosenType= 'Reddito complessivo oltre 120000 euro - Ammontare in euro'\n",
    "consideredRed = redditi.loc[(redditi[\"Redditi e variabili IRPEF\"] == chosenType)]\n",
    "consideredRed = consideredRed.sort_values(by=['CAP']).reset_index().drop([\"index\"],axis = 1)# Sort "
   ]
  },
  {
   "cell_type": "code",
   "execution_count": null,
   "id": "2cfa8683",
   "metadata": {},
   "outputs": [],
   "source": [
    "vmin = consideredRed[\"Valori\"].min()\n",
    "if not math.isnan(vmin) and len(consideredRed[\"Valori\"]) == len(capZone):\n",
    "    fig, ax = plt.subplots(figsize=(15, 15))\n",
    "    color = cmap[random.randint(0,len(cmap)-1)]\n",
    "    vmax = consideredRed[\"Valori\"].max()\n",
    "    step = (vmax-vmin)/9\n",
    "    capZone.plot(column= consideredRed[\"Valori\"], alpha=0.5, edgecolor='k', vmin = vmin, \n",
    "               vmax = vmax,cmap =color, ax=ax, legend=True, \n",
    "               legend_kwds={'label': chosenType,\n",
    "                            'orientation': \"horizontal\",\"location\": \"top\",\"shrink\":0.87,\n",
    "                            \"ticks\": np.arange(vmin,vmax+step,step).astype(int)})\n",
    "    cx.add_basemap(ax,source=\"milanMap.tif\")\n",
    "    plt.axis('off')\n",
    "    capZone.apply(lambda x: ax.annotate(text=x['CAP'], xy=x.geometry.centroid.coords[0], ha='center',fontsize=20), axis=1)\n",
    "else:\n",
    "    print(\"Not enough values for chosen parameters\")"
   ]
  },
  {
   "cell_type": "code",
   "execution_count": null,
   "id": "5bd031a9",
   "metadata": {},
   "outputs": [],
   "source": [
    "if 'Frequenza' in chosenType:\n",
    "    label = 'Frequenza'\n",
    "else:\n",
    "    label = 'Ammontare'\n",
    "fig = px.choropleth_mapbox(\n",
    "    capZone,\n",
    "    geojson=capZone,\n",
    "    locations=capZone.index,\n",
    "    hover_name =capZone.CAP, #Bold name\n",
    "    opacity =0.5,\n",
    "    color = consideredRed.Valori, #Color zones\n",
    "    center=dict(lat=45.45, lon=9.18),\n",
    "    mapbox_style=\"open-street-map\",\n",
    "    zoom=11,\n",
    "    height = 1000,\n",
    "    width = 1000,\n",
    "    labels={'color':label,'AREA':'area'},\n",
    "    title = chosenType\n",
    ")\n",
    "fig.update_geos(fitbounds=\"locations\", visible=True)\n",
    "\n",
    "fig.show()\n",
    "\n",
    "fig.write_html(\"test.html\")"
   ]
  },
  {
   "cell_type": "markdown",
   "id": "0724b192",
   "metadata": {},
   "source": [
    "## Movements for study, work, events or tourism"
   ]
  },
  {
   "cell_type": "markdown",
   "id": "106337a6",
   "metadata": {},
   "source": [
    "#### Study, work, affairs, occasional, coming home"
   ]
  },
  {
   "cell_type": "code",
   "execution_count": null,
   "id": "1b25ec32",
   "metadata": {},
   "outputs": [],
   "source": [
    "movShap = gpd.read_file(r\"New/ShapeMatrice OD2016 - Passeggeri - Zone interne\")\n",
    "movShap_wm = movShap.to_crs(epsg=3857)\n",
    "movShap_wm_Mi = movShap_wm.loc[movShap_wm[\"desc_zona\"].str.contains(\"MILANO\")]#Can be changed\n",
    "movShap_Mi = movShap.loc[movShap[\"desc_zona\"].str.contains(\"MILANO\")]#Can be changed\n",
    "\n",
    "print(movShap.crs)"
   ]
  },
  {
   "cell_type": "code",
   "execution_count": null,
   "id": "b7103541",
   "metadata": {},
   "outputs": [],
   "source": [
    "ax = movShap_wm_Mi.plot(figsize=(10, 10), alpha=0.5, edgecolor='k')\n",
    "cx.add_basemap(ax, source=\"milanSmall.tif\")\n",
    "plt.axis('off')\n",
    "movShap_wm_Mi.apply(lambda x: ax.annotate(text=x['desc_zona'], xy=x.geometry.centroid.coords[0], ha='center',fontsize=20), axis=1);"
   ]
  },
  {
   "cell_type": "code",
   "execution_count": null,
   "id": "a376669c",
   "metadata": {},
   "outputs": [],
   "source": [
    "movShap_Mi"
   ]
  },
  {
   "cell_type": "code",
   "execution_count": null,
   "id": "5d762c79",
   "metadata": {},
   "outputs": [],
   "source": [
    "fig = px.choropleth_mapbox(\n",
    "    movShap_Mi,\n",
    "    geojson=movShap_Mi,\n",
    "    locations=movShap_Mi.index,\n",
    "    hover_name =movShap_Mi.desc_zona, #Bold name\n",
    "    opacity =0.8,\n",
    "    center=dict(lat=45.46, lon=9.16),\n",
    "    mapbox_style=\"open-street-map\",\n",
    "    zoom=10.3,\n",
    "    height = 600,\n",
    "    width = 600,\n",
    "    title = \"Milan zones\",\n",
    "#     config = dict({'scrollZoom': False})\n",
    ")\n",
    "fig.update_geos(fitbounds=\"locations\", visible=True)\n",
    "fig.update_layout(dragmode=False)\n",
    "\n",
    "fig.show()\n",
    "fig.write_html(\"MilanZones.html\")"
   ]
  },
  {
   "cell_type": "code",
   "execution_count": null,
   "id": "ce5b4c01",
   "metadata": {},
   "outputs": [],
   "source": [
    "mov = pd.read_csv(\"New/matrice_od_2020_passeggeri/matrice_od_2020_passeggeri.csv\")"
   ]
  },
  {
   "cell_type": "code",
   "execution_count": null,
   "id": "3d17cfa3",
   "metadata": {},
   "outputs": [],
   "source": [
    "# mov.loc[mov[\"ZONA_DEST\"].str.contains(\"MILANO\")].to_csv(\"movementsToMilan.csv\", encoding='utf-8',index=False)"
   ]
  },
  {
   "cell_type": "code",
   "execution_count": null,
   "id": "25cc812a",
   "metadata": {},
   "outputs": [],
   "source": [
    "latLong = pd.read_csv(\"New/italy_lng_latAgg2021.csv\")\n",
    "prov = pd.read_csv(\"New/provincia.csv\",sep = \";\")\n",
    "\n",
    "def plotMov(currGroupOutside,currGroupInside,target, movType,filter_col):\n",
    "    #Outside movements\n",
    "    img = []\n",
    "    if currGroupOutside.empty:\n",
    "        print('No consistent outside traffic to target area')\n",
    "    else:\n",
    "        out = []\n",
    "        for index,row in currGroupOutside[~currGroupOutside[\"PROV_ORIG\"].isin(prov[\"CodSiglaProvincia\"])].iterrows():\n",
    "            out.append(\"Spostamenti verso \" + target + \", tipo: \" + movType + \" da \" +\n",
    "                            row[\"PROV_ORIG\"] + \": \" + str(int(row[filter_col].sum())))\n",
    "        #Get location of outside points\n",
    "        currGroupOutside = pd.merge(currGroupOutside,prov,how=\"inner\", left_on=\"PROV_ORIG\", right_on=\"CodSiglaProvincia\")#Attach city name from province\n",
    "        currGroupOutside = pd.merge(currGroupOutside,latLong,how=\"inner\", left_on=\"DescrProvincia\", right_on=\"comune\")#Attach lng lat from city name\n",
    "        #Plot oustide points with lines and write amount\n",
    "        gdf = gpd.GeoDataFrame(\n",
    "                currGroupOutside, geometry=gpd.points_from_xy(currGroupOutside[\"lng\"],currGroupOutside[\"lat\"], crs=\"EPSG:4326\"))\n",
    "        gdf = gdf.to_crs(epsg=3857)\n",
    "        gdf = pd.concat([gdf,movShap_wm_Mi.loc[movShap_wm_Mi[\"desc_zona\"] == target]])\n",
    "        ax = gdf.plot(figsize=(20, 20), alpha=0.5, edgecolor='k',color = \"y\", markersize = 400)\n",
    "        cx.add_basemap(ax,source=\"northernItaly.tif\",reset_extent=False)\n",
    "        plt.axis('off')\n",
    "        ax.set_title(\"Spostamenti verso \" + target + \", tipo: \" + movType + \" da fuori provincia\")\n",
    "        \n",
    "\n",
    "        #Print non-province data (plot is too big)\n",
    "        i=0\n",
    "        for s in out:\n",
    "            plt.figtext(s=s , x=0.121,y=0.2-0.01*i)\n",
    "            i = i+1\n",
    "\n",
    "        movShap_wm_Mi.loc[movShap_wm_Mi[\"desc_zona\"] == target].apply(lambda x: ax.annotate(\n",
    "            text=x['desc_zona'], xy=x.geometry.centroid.coords[0], ha='center',fontsize=15), axis=1);\n",
    "        gdf.apply(lambda x: ax.annotate(#Annotate how many moves\n",
    "            text=int(x[filter_col].sum()), xy=x.geometry.centroid.coords[0], ha='center',fontsize=20), axis=1);\n",
    "        #plot lines\n",
    "        for i in range(0, len(gdf)-1):\n",
    "            ls = LineString([gdf[\"geometry\"][i], movShap_wm_Mi.loc[movShap_wm_Mi[\n",
    "                \"desc_zona\"] == target].geometry.centroid.item()])\n",
    "            ax.plot(*ls.xy, color = \"green\")\n",
    "           \n",
    "        ax.figure.savefig(\"filename2.png\")\n",
    "        img.append(\"A\")\n",
    "            \n",
    "    #Inside movements\n",
    "    if currGroupInside.empty:\n",
    "        print('No consistent inside traffic to target area')\n",
    "    else:\n",
    "        #Get location of inside points\n",
    "        currGroupInside = pd.merge(movShap_wm,currGroupInside, how=\"inner\", left_on=\"desc_zona\", right_on=\"ZONA_ORIG\")\n",
    "        #Plot inside points with lines and write amount\n",
    "        gdf = gpd.GeoDataFrame(\n",
    "                currGroupInside, geometry=currGroupInside.geometry.centroid)\n",
    "        ax = gdf.plot(marker='*',figsize=(20, 20), alpha=0.5, edgecolor='k')\n",
    "        try:\n",
    "            cx.add_basemap(ax,source=\"MilanSmall.tif\",reset_extent=False)\n",
    "        except:\n",
    "            cx.add_basemap(ax,source=\"Milan.tif\")\n",
    "        plt.axis('off')\n",
    "        ax.set_title(\"Spostamenti verso \" + target + \", tipo: \" + movType + \" da dentro provincia\")\n",
    "        gdf.apply(lambda x: ax.annotate(#Annotate how many moves\n",
    "            text=int(x[filter_col].sum()), xy=x.geometry.centroid.coords[0], ha='center',fontsize=20)\n",
    "                  if (x.desc_zona!= \"MILANO 2\")else None, axis=1)\n",
    "        gdf.apply(lambda x: ax.annotate(#Annotate how many moves\n",
    "            text=int(x[filter_col].sum()), xy=(x.geometry.centroid.coords[0][0],x.geometry.centroid.coords[0][1]-1500), ha='center',fontsize=20)\n",
    "                  if (x.desc_zona== \"MILANO 2\")else None, axis=1)\n",
    "        #plot lines\n",
    "        for i in range(0, len(gdf)):\n",
    "            ls = LineString([gdf[\"geometry\"][i], movShap_wm_Mi.loc[movShap_wm_Mi[\n",
    "                \"desc_zona\"] == target].geometry.centroid.item()])\n",
    "            plt.plot(*ls.xy, color = \"green\")\n",
    "        #plot boundaries (do it again without points)\n",
    "        vmin = currGroupInside[filter_col].sum(axis = 1).min()\n",
    "        vmax = currGroupInside[filter_col].sum(axis = 1).max()\n",
    "        step = (vmax-vmin)/10\n",
    "        print(vmin)\n",
    "        if vmax!=vmin:\n",
    "            ticks = np.arange(vmin,vmax+step,step).astype(int)\n",
    "        else:\n",
    "            ticks = np.arange(10)\n",
    "        currGroupInside = pd.merge(movShap_wm,currGroupInside, how=\"inner\", \n",
    "                                   left_on=\"desc_zona\", right_on=\"ZONA_ORIG\", suffixes=('', '_y'))\n",
    "        currGroupInside.plot(ax = ax, alpha=0.5, edgecolor='k',linewidth = 5, \n",
    "                            column = currGroupInside[filter_col].sum(axis = 1), cmap = color, legend = True,\n",
    "                            legend_kwds={'orientation': \"horizontal\",\"location\": \"top\",\"shrink\":0.87,\n",
    "                                \"ticks\": ticks} )\n",
    "        \n",
    "#         currGroupInside.apply(lambda x: \n",
    "#                               ax.annotate(#Put name of centres\n",
    "#                                   text=x['desc_zona'], xy=(x.geometry.centroid.coords[0][0],x.geometry.centroid.coords[0][1]+500), ha='center',fontsize=15) \n",
    "#                               if (x.desc_zona!= \"MILANO 2\")else None, axis=1)\n",
    "#         currGroupInside.apply(lambda x: \n",
    "#                               ax.annotate(#Put name of centres (Problem Milano2)\n",
    "#                                   text=x['desc_zona'], xy=(x.geometry.centroid.coords[0][0],x.geometry.centroid.coords[0][1]+1200), ha='center',fontsize=15) \n",
    "#                               if (x.desc_zona== \"MILANO 2\")else None, axis=1)\n",
    "    \n",
    "    img.append(\"B\")\n",
    "    return img\n",
    "    #Fix accents"
   ]
  },
  {
   "cell_type": "code",
   "execution_count": null,
   "id": "ab2ab92d",
   "metadata": {},
   "outputs": [],
   "source": [
    "target = \"MILANO 13\"\n",
    "provinceOfTarget = \"MI\"\n",
    "movTarget = mov.loc[mov[\"ZONA_DEST\"]== target]#Keep Only destination target\n",
    "movTarget"
   ]
  },
  {
   "cell_type": "code",
   "execution_count": null,
   "id": "3f586001",
   "metadata": {
    "scrolled": false
   },
   "outputs": [],
   "source": [
    "%matplotlib inline\n",
    "color = cmap[random.randint(0,len(cmap)-1)]\n",
    "outsideMilan = movTarget.groupby(['ZONA_DEST','PROV_ORIG'], as_index=False).sum()\n",
    "insideMilan = movTarget.groupby(['ZONA_DEST','PROV_ORIG','ZONA_ORIG'], as_index=False).sum()#Movement outside Milan\n",
    "insideMilan = insideMilan.loc[insideMilan[\"PROV_ORIG\"] ==provinceOfTarget]#Movement inside Milan\n",
    "thresh = 500\n",
    "aa = []\n",
    "for movType in [\"STU\",\"LAV\",\"OCC\",\"AFF\",\"RIT\"]:#Analyze each type individually\n",
    "    filter_col = [col for col in outsideMilan if col.startswith(movType)]\n",
    "    currGroupOutside = outsideMilan[outsideMilan[filter_col].sum(axis = 1) > thresh][\n",
    "        [\"ZONA_DEST\",\"PROV_ORIG\"] + filter_col]#See if there is at least one type w enough mov\n",
    "    currGroupOutside = currGroupOutside[currGroupOutside.PROV_ORIG != provinceOfTarget]#Take away inside\n",
    "    currGroupInside = insideMilan[insideMilan[filter_col].sum(axis = 1) > thresh][\n",
    "        [\"ZONA_DEST\",'PROV_ORIG','ZONA_ORIG'] + filter_col]#See if there is at least one type w enough mov\n",
    "    aa.append(plotMov(currGroupOutside,currGroupInside,target,movType,filter_col))\n"
   ]
  },
  {
   "cell_type": "markdown",
   "id": "8b3f4e52",
   "metadata": {},
   "source": [
    "### OSMnx"
   ]
  },
  {
   "cell_type": "code",
   "execution_count": null,
   "id": "aea7843b",
   "metadata": {},
   "outputs": [],
   "source": [
    "import osmnx as ox\n",
    "\n",
    "%matplotlib inline\n",
    "# Specify the name that is used to seach for the data\n",
    "selectedZone = movShap.loc[movShap[\"desc_zona\"] == \"MILANO 13\"]\n",
    "selectedZone.crs"
   ]
  },
  {
   "cell_type": "code",
   "execution_count": null,
   "id": "0c8d0533",
   "metadata": {},
   "outputs": [],
   "source": [
    "# Retrieve category\n",
    "# 'shop':'jewelry'\n",
    "typeOfShop = ox.geometries.geometries_from_polygon(selectedZone[\"geometry\"].values[0], tags = { 'shop':'clothes'})\n",
    "typeOfShop = typeOfShop.to_crs(epsg=3857)"
   ]
  },
  {
   "cell_type": "code",
   "execution_count": null,
   "id": "543769f6",
   "metadata": {},
   "outputs": [],
   "source": [
    "subType = ox.geometries.geometries_from_polygon(selectedZone[\"geometry\"].values[0], tags = { 'name':['Gucci']})\n",
    "subType = subType.to_crs(epsg=3857)"
   ]
  },
  {
   "cell_type": "code",
   "execution_count": null,
   "id": "b047c761",
   "metadata": {
    "scrolled": false
   },
   "outputs": [],
   "source": [
    "ax = typeOfShop.plot(figsize=(10, 10), alpha=0.5, edgecolor='k')\n",
    "cx.add_basemap(ax,source = \"MilanSmall.tif\")\n",
    "plt.axis('off')\n",
    "subType.plot(figsize=(10, 10), alpha=0.5, edgecolor='k', ax=ax, color = \"r\")"
   ]
  },
  {
   "cell_type": "code",
   "execution_count": null,
   "id": "dca3da9c",
   "metadata": {},
   "outputs": [],
   "source": []
  },
  {
   "cell_type": "markdown",
   "id": "0ff6ea47",
   "metadata": {},
   "source": [
    "## Add transport (trains)\n",
    "\n"
   ]
  },
  {
   "cell_type": "markdown",
   "id": "f01170cf",
   "metadata": {},
   "source": [
    "### Regionals"
   ]
  },
  {
   "cell_type": "code",
   "execution_count": null,
   "id": "4d9d1bbc",
   "metadata": {},
   "outputs": [],
   "source": [
    "stops = pd.read_csv(\"new/Orario_Ferroviario_Regionale_-_Stops.csv\")\n",
    "stops= stops.drop([\"stop_code\",\"stop_id\", \"stop_desc\", \"stop_url\", \"location_type\", \"parent_station\",\"location\"],axis = 1)\n",
    "stops"
   ]
  },
  {
   "cell_type": "code",
   "execution_count": null,
   "id": "a3ee196d",
   "metadata": {},
   "outputs": [],
   "source": [
    "def cutAwayMoreThanMinutes(stops):\n",
    "#     avgTrainSpeed = 45 #km/h \n",
    "    #Remove if more than 1.5h\n",
    "    #Remove from Colico and from Iseo\n",
    "    point = stops.loc[stops[\"stop_name\"] == \"COLICO\"]\n",
    "    stops = stops.drop(stops[stops[\"stop_lat\"] > point[\"stop_lat\"].values[0]].index)#Prata Camportaccio\n",
    "    stops = stops.drop(stops[(stops[\"stop_lat\"] > point[\"stop_lat\"].values[0]-0.1) & \n",
    "                       (stops[\"stop_lon\"] > point[\"stop_lon\"].values[0])].index)#Tirano\n",
    "    point = stops.loc[stops[\"stop_name\"] == \"ISEO\"]\n",
    "    stops = stops.drop(stops[(stops[\"stop_lat\"] > point[\"stop_lat\"].values[0]) & \n",
    "                       (stops[\"stop_lon\"] > point[\"stop_lon\"].values[0])].index)#Cedegolo\n",
    "    return stops\n"
   ]
  },
  {
   "cell_type": "code",
   "execution_count": null,
   "id": "e41aac97",
   "metadata": {},
   "outputs": [],
   "source": [
    "# stops = cutAwayMoreThanMinutes(stops)\n",
    "# fig = plt.figure(0)\n",
    "# ax = fig.add_subplot()\n",
    "# p = ax.scatter(x=stops[\"stop_lon\"], y=stops[\"stop_lat\"],marker = '.', c = \"Black\")#Centers\n",
    "\n",
    "# # r.remove()\n",
    "# # centers.remove()"
   ]
  },
  {
   "cell_type": "code",
   "execution_count": null,
   "id": "7c62b723",
   "metadata": {},
   "outputs": [],
   "source": [
    "hs = pd.read_csv(\"new/Orario_Ferroviario_Frecce.csv\")\n",
    "stops = pd.concat([stops,hs]).reset_index()"
   ]
  },
  {
   "cell_type": "code",
   "execution_count": null,
   "id": "463174b3",
   "metadata": {},
   "outputs": [],
   "source": [
    "import plotly.graph_objects as go \n",
    "import plotly.express as px\n",
    "from shapely.geometry import Point\n",
    "\n",
    "print(len(stops))\n",
    "stops = cutAwayMoreThanMinutes(stops)\n",
    "print(len(stops))\n",
    "\n",
    "fig = px.choropleth_mapbox(\n",
    "    center=dict(lat=45.45, lon=9.18),\n",
    "    mapbox_style=\"open-street-map\",\n",
    "    zoom=6.5,\n",
    "    height = 600,\n",
    "    width = 600,\n",
    "    title = \"Public transport connections to Milan (max 1.5h)\"\n",
    ")\n",
    "fig.update_geos(fitbounds=\"locations\", visible=True)\n",
    "fig.add_scattermapbox(\n",
    "    lat = stops.stop_lat,\n",
    "    lon = stops.stop_lon,\n",
    "    mode = 'markers+text',\n",
    "#     text = texts,\n",
    "    marker_size=12,\n",
    "    marker_color='rgb(235, 0, 100)',\n",
    "    hovertext  =stops.stop_name\n",
    ")\n",
    "\n",
    "fig.show()\n",
    "fig.write_html(\"transportMilan.html\")"
   ]
  },
  {
   "cell_type": "code",
   "execution_count": null,
   "id": "021f0f32",
   "metadata": {},
   "outputs": [],
   "source": [
    "fig.write_image(\"img.jpg\")"
   ]
  },
  {
   "cell_type": "code",
   "execution_count": null,
   "id": "047f3354",
   "metadata": {},
   "outputs": [],
   "source": [
    "milano = stops.loc[stops[\"stop_name\"] ==\"MILANO CENTRALE\"]\n",
    "for index, row in hs.iterrows():\n",
    "    ax.plot([row[\"stop_lon\"],milano[\"stop_lon\"].values[0]], [row[\"stop_lat\"],milano[\"stop_lat\"].values[0]])\n",
    "\n",
    "display(fig)  # Shows plot again\n"
   ]
  },
  {
   "cell_type": "code",
   "execution_count": null,
   "id": "9c1ba654",
   "metadata": {},
   "outputs": [],
   "source": [
    "hs"
   ]
  },
  {
   "cell_type": "code",
   "execution_count": null,
   "id": "77c7d649",
   "metadata": {},
   "outputs": [],
   "source": []
  }
 ],
 "metadata": {
  "kernelspec": {
   "display_name": "Python (geoenv1)",
   "language": "python",
   "name": "geoenv1"
  },
  "language_info": {
   "codemirror_mode": {
    "name": "ipython",
    "version": 3
   },
   "file_extension": ".py",
   "mimetype": "text/x-python",
   "name": "python",
   "nbconvert_exporter": "python",
   "pygments_lexer": "ipython3",
   "version": "3.10.4"
  }
 },
 "nbformat": 4,
 "nbformat_minor": 5
}
