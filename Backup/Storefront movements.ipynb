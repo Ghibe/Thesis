{
 "cells": [
  {
   "cell_type": "code",
   "execution_count": null,
   "id": "3e88ae83",
   "metadata": {},
   "outputs": [],
   "source": [
    "import matplotlib.pyplot as plt\n",
    "import numpy as np \n",
    "import pandas as pd \n",
    "import random\n",
    "import math\n",
    "%matplotlib inline\n",
    "from shapely.geometry import LineString\n",
    "#For interactive\n",
    "\n",
    "import geopandas as gpd\n",
    "import contextily as cx\n",
    "\n",
    "movShap = gpd.read_file(r\"New/ShapeMatrice OD2016 - Passeggeri - Zone interne\")\n",
    "movShap_wm = movShap.to_crs(epsg=3857)\n",
    "\n",
    "mov = pd.read_csv(\"New/matrice_od_2020_passeggeri/matrice_od_2020_passeggeri.csv\")\n",
    "\n"
   ]
  },
  {
   "cell_type": "code",
   "execution_count": null,
   "id": "95e9722b",
   "metadata": {},
   "outputs": [],
   "source": [
    "timeSlots = ['00:00-00:59', '01:00-01:59', '02:00-02:59', '03:00-03:59',\n",
    "       '04:00-04:59', '05:00-05:59', '06:00-06:59', '07:00-07:59',\n",
    "       '08:00-08:59', '09:00-09:59', '10:00-10:59', '11:00-11:59',\n",
    "       '12:00-12:59', '13:00-13:59', '14:00-14:59', '15:00-15:59',\n",
    "       '16:00-16:59', '17:00-17:59', '18:00-18:59', '19:00-19:59',\n",
    "       '20:00-20:59', '21:00-21:59', '22:00-22:59', '23:00-23:59']\n",
    "milanZones = ['','MILANO 1', 'MILANO 2', 'MILANO 3', 'MILANO 4', 'MILANO 5',\n",
    "       'MILANO 6', 'MILANO 7', 'MILANO 8', 'MILANO 9', 'MILANO 10',\n",
    "       'MILANO 11', 'MILANO 12', 'MILANO 13', 'MILANO 14', 'MILANO 15',\n",
    "       'MILANO 16']\n",
    "movTypes = ['COND', 'PAX', 'FERRO', 'GOMMA', 'MOTO', 'BICI', 'PIEDI', 'ALTRO']\n",
    "movReason = [\"STU\",\"LAV\",\"OCC\",\"AFF\",\"RIT\"]"
   ]
  },
  {
   "cell_type": "code",
   "execution_count": null,
   "id": "d6f5740a",
   "metadata": {},
   "outputs": [],
   "source": [
    "movShap_wm_Mi = movShap_wm.loc[movShap_wm[\"desc_zona\"].str.contains(\"MILANO\")]#Can be changed\n",
    "\n",
    "ax = movShap_wm_Mi.plot(figsize=(10, 10), alpha=0.5, edgecolor='k')\n",
    "cx.add_basemap(ax, source=\"milanMap.tif\")\n",
    "plt.axis('off')\n",
    "movShap_wm_Mi.apply(lambda x: ax.annotate(text=x['desc_zona'], xy=x.geometry.centroid.coords[0], ha='center',fontsize=20), axis=1);"
   ]
  },
  {
   "cell_type": "markdown",
   "id": "10057e45",
   "metadata": {},
   "source": [
    "## Store 1: Food in Milano 3"
   ]
  },
  {
   "cell_type": "code",
   "execution_count": null,
   "id": "1349d270",
   "metadata": {},
   "outputs": [],
   "source": [
    "ds1 = pd.read_excel(\"New/rdatibs4pertesisimonebellini/Food_B1_StoreFront_data.xlsx\").dropna()\n",
    "zonaStore = \"MILANO 3\"\n",
    "currMov = mov.loc[mov[\"ZONA_DEST\"] == zonaStore]            "
   ]
  },
  {
   "cell_type": "code",
   "execution_count": null,
   "id": "9c3610b9",
   "metadata": {},
   "outputs": [],
   "source": [
    "totMovTimeSlot = []\n",
    "for ts in timeSlots:\n",
    "    totMovTimeSlot.append(currMov.loc[currMov[\"FASCIA_ORARIA\"] == ts].sum()[5:].sum()) #Total movements in that timeslot"
   ]
  },
  {
   "cell_type": "markdown",
   "id": "cee0960f",
   "metadata": {},
   "source": [
    "#### Total movements"
   ]
  },
  {
   "cell_type": "code",
   "execution_count": null,
   "id": "82a16fa8",
   "metadata": {},
   "outputs": [],
   "source": [
    "fig = plt.figure()\n",
    "ax = fig.add_axes([0,0,1,1])\n",
    "ax.bar(timeSlots,totMovTimeSlot)\n",
    "ax.set_xticklabels(timeSlots,rotation='vertical')\n",
    "ax.set_title(\"Movements by time slot in \" + zonaStore)\n",
    "plt.show()"
   ]
  },
  {
   "cell_type": "markdown",
   "id": "be0ae61c",
   "metadata": {},
   "source": [
    "#### Where are movements from"
   ]
  },
  {
   "cell_type": "code",
   "execution_count": null,
   "id": "6ccbc434",
   "metadata": {},
   "outputs": [],
   "source": [
    "#Get where are from\n",
    "fig = plt.figure()\n",
    "ax = fig.add_axes([0,0,1,1])\n",
    "whereFrom = []\n",
    "for ts in timeSlots:\n",
    "    movdf = currMov.loc[currMov[\"FASCIA_ORARIA\"] == ts]#Get all movements for ts\n",
    "    currGroup = movdf.groupby(['PROV_ORIG'], as_index=False).sum()\n",
    "    whereFromTs = []\n",
    "    for pog in currGroup.PROV_ORIG:#For each province\n",
    "        whereFromTs.append(currGroup.loc[currGroup[\"PROV_ORIG\"]== pog].sum()[1:].sum())#Get all movements from province and save\n",
    "    whereFrom.append(whereFromTs)\n",
    "labels = currGroup.PROV_ORIG\n",
    "\n",
    "\n",
    "\n",
    "# Import Python cycling library\n",
    "from itertools import cycle\n",
    "\n",
    "# Create a colour code cycler e.g. 'C0', 'C1', etc.\n",
    "color_codes = map('C{}'.format, cycle(range(len(whereFromTs))))\n",
    "\n",
    "cm = plt.get_cmap('gist_rainbow')\n",
    "ax.set_prop_cycle('color', [cm(1.*i/len(whereFromTs)) for i in range(len(whereFromTs))])\n",
    "\n",
    "\n",
    "for i in range(0,len(whereFromTs)):\n",
    "    if i ==0:\n",
    "        plt.bar(timeSlots,list(list(zip(*whereFrom))[i]),label=labels.values[i])\n",
    "\n",
    "        bot = np.array(list(list(zip(*whereFrom))[i]))\n",
    "    else:\n",
    "        plt.bar(timeSlots,list(list(zip(*whereFrom))[i]),label=labels.values[i],\n",
    "               bottom=bot)\n",
    "        bot += np.array(list(list(zip(*whereFrom))[i]))\n",
    "plt.legend(loc=\"upper left\",bbox_to_anchor=(1.2,1.0))\n",
    "ax.set_xticklabels(timeSlots,rotation='vertical')\n",
    "ax.set_title(\"Movements by origin in \" + zonaStore)\n",
    "plt.show()\n"
   ]
  },
  {
   "cell_type": "code",
   "execution_count": null,
   "id": "9df474c8",
   "metadata": {},
   "outputs": [],
   "source": [
    "import plotly.express as px\n",
    "origindf = pd.DataFrame(list(list(zip(*whereFrom))), columns =timeSlots).T\n",
    "origindf.columns = labels\n",
    "fig = px.bar(origindf, x=timeSlots,y = origindf.columns, title=\"Movements by origin in \" + zonaStore)\n",
    "fig.update_layout(\n",
    "    xaxis = dict(\n",
    "        tickmode = 'array',\n",
    "        tickvals = origindf.index,\n",
    "        ticktext = timeSlots)\n",
    ")\n",
    "\n",
    "fig.show()"
   ]
  },
  {
   "cell_type": "code",
   "execution_count": null,
   "id": "8cf4459c",
   "metadata": {},
   "outputs": [],
   "source": [
    "origindf.iloc[1].values"
   ]
  },
  {
   "cell_type": "markdown",
   "id": "ed87f6fa",
   "metadata": {},
   "source": [
    "#### How people arrived there"
   ]
  },
  {
   "cell_type": "code",
   "execution_count": null,
   "id": "1742a93b",
   "metadata": {},
   "outputs": [],
   "source": [
    "#Get how they arrived there\n",
    "fig = plt.figure()\n",
    "ax = fig.add_axes([0,0,1,1])\n",
    "howArrive = []\n",
    "for ts in timeSlots:\n",
    "    movdf = currMov.loc[currMov[\"FASCIA_ORARIA\"] == ts].sum()[5:].to_frame().T#Get all movements for ts\n",
    "    howArrivets = []\n",
    "    for typ in movTypes:#For each movement type (CAR, bike etc)\n",
    "        filter_col = [col for col in aa if col.endswith(typ)]\n",
    "        howArrivets.append(movdf[filter_col].sum().sum())\n",
    "    howArrive.append(howArrivets)\n",
    "    \n",
    "for i in range(0,len(movTypes)):\n",
    "    if i ==0:\n",
    "        plt.bar(timeSlots,list(list(zip(*howArrive))[i]),label=movTypes[i])\n",
    "        bot = np.array(list(list(zip(*howArrive))[i]))\n",
    "    else:\n",
    "        plt.bar(timeSlots,list(list(zip(*howArrive))[i]),label=movTypes[i],\n",
    "               bottom=bot)\n",
    "        bot += np.array(list(list(zip(*howArrive))[i]))\n",
    "plt.legend(loc=\"upper left\",bbox_to_anchor=(0.8,1.0))\n",
    "ax.set_xticklabels(timeSlots,rotation='vertical')\n",
    "ax.set_title(\"Movements by type in \" + zonaStore)\n",
    "plt.show()\n"
   ]
  },
  {
   "cell_type": "markdown",
   "id": "9fa01b16",
   "metadata": {},
   "source": [
    "#### Why people arrived there"
   ]
  },
  {
   "cell_type": "code",
   "execution_count": null,
   "id": "020ef4a5",
   "metadata": {},
   "outputs": [],
   "source": [
    "#Get why they arrived there\n",
    "fig = plt.figure()\n",
    "ax = fig.add_axes([0,0,1,1])\n",
    "howArrive = []\n",
    "for ts in timeSlots:\n",
    "    movdf = currMov.loc[currMov[\"FASCIA_ORARIA\"] == ts].sum()[5:].to_frame().T#Get all movements for ts\n",
    "    howArrivets = []\n",
    "    for typ in movReason:#For each movement type (CAR, bike etc)\n",
    "        filter_col = [col for col in aa if col.startswith(typ)]\n",
    "        howArrivets.append(movdf[filter_col].sum().sum())\n",
    "    howArrive.append(howArrivets)\n",
    "    \n",
    "for i in range(0,len(movReason)):\n",
    "    if i ==0:\n",
    "        plt.bar(timeSlots,list(list(zip(*howArrive))[i]),label=movReason[i])\n",
    "        bot = np.array(list(list(zip(*howArrive))[i]))\n",
    "    else:\n",
    "        plt.bar(timeSlots,list(list(zip(*howArrive))[i]),label=movReason[i],\n",
    "               bottom=bot)\n",
    "        bot += np.array(list(list(zip(*howArrive))[i]))\n",
    "plt.legend(loc=\"upper left\",bbox_to_anchor=(0.8,1.0))\n",
    "ax.set_xticklabels(timeSlots,rotation='vertical')\n",
    "ax.set_title(\"Movements by reason in \" + zonaStore)\n",
    "plt.show()\n"
   ]
  },
  {
   "cell_type": "code",
   "execution_count": null,
   "id": "20916bbb",
   "metadata": {},
   "outputs": [],
   "source": []
  }
 ],
 "metadata": {
  "kernelspec": {
   "display_name": "Python (geoenv1)",
   "language": "python",
   "name": "geoenv1"
  },
  "language_info": {
   "codemirror_mode": {
    "name": "ipython",
    "version": 3
   },
   "file_extension": ".py",
   "mimetype": "text/x-python",
   "name": "python",
   "nbconvert_exporter": "python",
   "pygments_lexer": "ipython3",
   "version": "3.10.4"
  }
 },
 "nbformat": 4,
 "nbformat_minor": 5
}
