{
 "cells": [
  {
   "cell_type": "code",
   "execution_count": null,
   "id": "3e88ae83",
   "metadata": {},
   "outputs": [],
   "source": [
    "import matplotlib.pyplot as plt\n",
    "import numpy as np \n",
    "import pandas as pd \n",
    "import random\n",
    "import math\n",
    "%matplotlib inline\n",
    "from shapely.geometry import LineString\n",
    "#For interactive\n",
    "\n",
    "import geopandas as gpd\n",
    "import contextily as cx\n",
    "\n",
    "movShap = gpd.read_file(r\"New/ShapeMatrice OD2016 - Passeggeri - Zone interne\")\n",
    "movShap_wm = movShap.to_crs(epsg=3857)\n",
    "\n",
    "mov = pd.read_csv(\"New/matrice_od_2020_passeggeri/matrice_od_2020_passeggeri.csv\")#Heavy\n",
    "\n"
   ]
  },
  {
   "cell_type": "markdown",
   "id": "a5a79c72",
   "metadata": {},
   "source": [
    "## Prepare everything"
   ]
  },
  {
   "cell_type": "code",
   "execution_count": null,
   "id": "95e9722b",
   "metadata": {},
   "outputs": [],
   "source": [
    "timeSlots = ['00:00-00:59', '01:00-01:59', '02:00-02:59', '03:00-03:59',\n",
    "       '04:00-04:59', '05:00-05:59', '06:00-06:59', '07:00-07:59',\n",
    "       '08:00-08:59', '09:00-09:59', '10:00-10:59', '11:00-11:59',\n",
    "       '12:00-12:59', '13:00-13:59', '14:00-14:59', '15:00-15:59',\n",
    "       '16:00-16:59', '17:00-17:59', '18:00-18:59', '19:00-19:59',\n",
    "       '20:00-20:59', '21:00-21:59', '22:00-22:59', '23:00-23:59']\n",
    "milanZones = ['','MILANO 1', 'MILANO 2', 'MILANO 3', 'MILANO 4', 'MILANO 5',\n",
    "       'MILANO 6', 'MILANO 7', 'MILANO 8', 'MILANO 9', 'MILANO 10',\n",
    "       'MILANO 11', 'MILANO 12', 'MILANO 13', 'MILANO 14', 'MILANO 15',\n",
    "       'MILANO 16']\n",
    "movTypes = ['COND', 'PAX', 'FERRO', 'GOMMA', 'MOTO', 'BICI', 'PIEDI', 'ALTRO']\n",
    "movReason = [\"STU\",\"LAV\",\"OCC\",\"AFF\",\"RIT\"]\n",
    "#IN Milano 13 ci sono quartieri xyz, vedo distribuzione popolazione in questi quartieri\n",
    "munMov = [\n",
    "    [],\n",
    "    [1],#Milano 1\n",
    "    [1],#Milano 2\n",
    "    [2,9],#Milano 3\n",
    "    [3,4],#Milano 4\n",
    "    [2,9],#Milano 5\n",
    "    [3],#Milano 6\n",
    "    [5],#Milano 7\n",
    "    [4],#Milano 8\n",
    "    [4,5],#Milano 9\n",
    "    [5],#Milano 10\n",
    "    [6],#Milano 11\n",
    "    [6,7],#Milano 12\n",
    "    [6,7],#Milano 13\n",
    "    [8],#Milano 14\n",
    "    [8],#Milano 15\n",
    "    [9]#Milano 16\n",
    "]\n",
    "# nil = gpd.read_file(r'New/ds964_quartieri.geojson',geometry=\"Location\")\n",
    "# nil = nil.set_crs('epsg:4326')\n",
    "# nil = nil.to_crs(epsg=3857)\n",
    "# nil = pd.merge(nil, pd.read_csv('New/ds964_nil.csv',sep = \";\"),how='inner',left_on=['ID_NIL'],right_on=['ID_NIL'],suffixes=('', '_y'))\n",
    "# nil.drop(nil.filter(regex='_y$').columns.tolist(),axis=1, inplace=True)\n",
    "# nil = pd.merge(nil, nil.groupby(['Municipio'], as_index = False).sum()[[\"Municipio\",\"Popolazione\"]],how='inner',left_on=['Municipio'],right_on=['Municipio'],suffixes=('', 'Tot'))"
   ]
  },
  {
   "cell_type": "code",
   "execution_count": null,
   "id": "3451f9e7",
   "metadata": {},
   "outputs": [],
   "source": [
    "popFam = pd.read_csv(\"new/popolazioneFamiglieEtàZoneMilano.csv\")\n",
    "# popFam.loc[(popFam[\"Municipio\"]== 9) & (popFam[\"Classe_eta_capofamiglia\"]== \"80 anni e più\") & (popFam[\"Genere_capofamiglia\"]== \"Femmine\")]\n",
    "popFam  = popFam.groupby(['Municipio','Classe_eta_capofamiglia','Genere_capofamiglia','Numero_componenti','Tipologia_familiare'], as_index=True).agg(\n",
    "    {'Frq':'sum'}).reset_index()\n",
    "#Since have only householder in popFam, need to have data also on kids/teen\n",
    "popZon = pd.read_csv(\"new/ds29_pop_sto_zona.csv\", sep = \";\")\n",
    "popZon = popZon.loc[popZon[\"Anno\"]== 2020]\n",
    "# for col in popZon.columns:\n",
    "#     print(popZon[col].unique())\n",
    "try:\n",
    "    popZon['Eta'] = popZon['Eta'].map(lambda x: x.rstrip('  e più'))\n",
    "except:\n",
    "    print(\"Already done\")\n",
    "    \n",
    "popZon['Eta'] = popZon['Eta'].astype(int)\n",
    "popZon = popZon.loc[popZon[\"Eta\"] < 18]#Keep only part missing from other table\n",
    "bins= [0,3,13,18]\n",
    "labels = ['0-2 anni','3-12 anni','13-17 anni']\n",
    "popZon['Classe_eta_capofamiglia'] = pd.cut(popZon['Eta'], bins=bins, labels=labels, right=False) ##Create age groups\n",
    "\n",
    "popZon = popZon.groupby(['Municipio','Classe_eta_capofamiglia','Genere'], as_index=True).agg({'Residenti':'sum'}).reset_index()\n",
    "popZon[\"Tipologia_familiare\"] = \"Single\"#For consistency\n",
    "popZon[\"Frq\"] = popZon[\"Residenti\"]\n",
    "popZon[\"Numero_componenti\"] = \"1\"\n",
    "popZon = popZon.drop([\"Residenti\"],axis = 1)\n",
    "popZon[\"Genere_capofamiglia\"] = popZon[\"Genere\"]\n",
    "popZon = popZon.drop([\"Genere\"],axis = 1)\n",
    "popMilano = pd.concat([popFam, popZon])\n",
    "for i in range (1,10):\n",
    "    popMilano.loc[popMilano[\"Municipio\"] ==i,\"Distribution\"] =  popMilano.loc[popMilano[\"Municipio\"] ==i,\"Frq\"]/popMilano.loc[popMilano[\"Municipio\"] ==i,\"Frq\"].sum()"
   ]
  },
  {
   "cell_type": "markdown",
   "id": "e400dd6b",
   "metadata": {},
   "source": [
    "## Read ds"
   ]
  },
  {
   "cell_type": "code",
   "execution_count": null,
   "id": "d6f5740a",
   "metadata": {},
   "outputs": [],
   "source": [
    "movShap_wm_Mi = movShap_wm.loc[movShap_wm[\"desc_zona\"].str.contains(\"MILANO\")]#Can be changed\n",
    "\n",
    "ax = movShap_wm_Mi.plot(figsize=(10, 10), alpha=0.5, edgecolor='k')\n",
    "cx.add_basemap(ax, source=\"MilanSmall.tif\")\n",
    "plt.axis('off')\n",
    "movShap_wm_Mi.apply(lambda x: ax.annotate(text=x['desc_zona'], xy=x.geometry.centroid.coords[0], ha='center',fontsize=20), axis=1);"
   ]
  },
  {
   "cell_type": "code",
   "execution_count": null,
   "id": "6ceba86a",
   "metadata": {},
   "outputs": [],
   "source": [
    "stores = [\n",
    "    \"Food_B1_StoreFront_data\",\n",
    "    \"Food_P1_StoreFront_data\",\n",
    "    \"Retail_C1_StoreFront_data\",\n",
    "    \"Retail_C1_WalkIn_data\",\n",
    "    \"Retail_C2_StoreFront_data\",\n",
    "    \"Retail_C3_StoreFront_data\",\n",
    "    \"Retail_C3_WalkIn_data\",\n",
    "    \"Retail_C4_StoreFront_data\",\n",
    "    \"Retail_C5_StoreFront_data\",\n",
    "    \"Retail_C6_StoreFront_data\",\n",
    "    \"Retail_C6_WalkIn_data\"\n",
    "]\n",
    "interestedSlotsPossible = [\n",
    "    ['12:00-12:59', '13:00-13:59', '14:00-14:59', '19:00-19:59',\n",
    "       '20:00-20:59', '21:00-21:59', '22:00-22:59'],\n",
    "    ['08:00-08:59', '09:00-09:59', '10:00-10:59', '11:00-11:59',\n",
    "       '12:00-12:59', '13:00-13:59', '14:00-14:59', '15:00-15:59',\n",
    "       '16:00-16:59', '17:00-17:59', '18:00-18:59', '19:00-19:59',\n",
    "       '20:00-20:59'],\n",
    "]\n",
    "zonaStore = \"MILANO 3\"\n"
   ]
  },
  {
   "cell_type": "code",
   "execution_count": null,
   "id": "aeb4c133",
   "metadata": {},
   "outputs": [],
   "source": [
    "selected = 8\n",
    "interestedSlot = 1"
   ]
  },
  {
   "cell_type": "markdown",
   "id": "dfe76bfb",
   "metadata": {},
   "source": [
    "## Choose dataset"
   ]
  },
  {
   "cell_type": "code",
   "execution_count": null,
   "id": "1349d270",
   "metadata": {},
   "outputs": [],
   "source": [
    "ds1 = pd.read_excel(\"New/rdatibs4pertesisimonebellini/\"+stores[selected]+\".xlsx\").dropna().drop(0,axis=0).reset_index().drop([\"index\"],axis=1)\n",
    "currMov = mov.loc[mov[\"ZONA_DEST\"] == zonaStore]\n",
    "interestedSlots = interestedSlotsPossible[interestedSlot]\n",
    "\n",
    "#Remove columns of all zeros\n",
    "for col in ds1.columns:\n",
    "    if np.array_equal(ds1[col].values,np.zeros(len(ds1))):\n",
    "        ds1.drop(col,axis=1, inplace=True)"
   ]
  },
  {
   "cell_type": "code",
   "execution_count": null,
   "id": "9c3610b9",
   "metadata": {},
   "outputs": [],
   "source": [
    "totMovTimeSlot = []\n",
    "for ts in timeSlots:\n",
    "    totMovTimeSlot.append(currMov.loc[currMov[\"FASCIA_ORARIA\"] == ts].sum()[5:].sum()) #Total movements in that timeslot"
   ]
  },
  {
   "cell_type": "markdown",
   "id": "cee0960f",
   "metadata": {},
   "source": [
    "#### Total movements"
   ]
  },
  {
   "cell_type": "code",
   "execution_count": null,
   "id": "82a16fa8",
   "metadata": {},
   "outputs": [],
   "source": [
    "fig = plt.figure()\n",
    "ax = fig.add_axes([0,0,1,1])\n",
    "ax.bar(timeSlots,totMovTimeSlot)\n",
    "ax.set_xticklabels(timeSlots,rotation='vertical')\n",
    "ax.set_title(\"Movements by time slot in \" + zonaStore)\n",
    "plt.show()"
   ]
  },
  {
   "cell_type": "markdown",
   "id": "be0ae61c",
   "metadata": {},
   "source": [
    "#### Where are movements from"
   ]
  },
  {
   "cell_type": "code",
   "execution_count": null,
   "id": "6ccbc434",
   "metadata": {},
   "outputs": [],
   "source": [
    "#Get where are from\n",
    "fig = plt.figure()\n",
    "ax = fig.add_axes([0,0,1,1])\n",
    "whereFrom = []\n",
    "for ts in timeSlots:\n",
    "    movdf = currMov.loc[currMov[\"FASCIA_ORARIA\"] == ts]#Get all movements for ts\n",
    "    currGroup = movdf.groupby(['PROV_ORIG'], as_index=False).sum()\n",
    "    whereFromTs = []\n",
    "    for pog in currGroup.PROV_ORIG:#For each province\n",
    "        whereFromTs.append(currGroup.loc[currGroup[\"PROV_ORIG\"]== pog].sum()[1:].sum())#Get all movements from province and save\n",
    "    whereFrom.append(whereFromTs)\n",
    "labels = currGroup.PROV_ORIG\n",
    "\n",
    "# Import Python cycling library\n",
    "from itertools import cycle\n",
    "\n",
    "# Create a colour code cycler e.g. 'C0', 'C1', etc.\n",
    "color_codes = map('C{}'.format, cycle(range(len(whereFromTs))))\n",
    "\n",
    "cm = plt.get_cmap('gist_rainbow')\n",
    "ax.set_prop_cycle('color', [cm(1.*i/len(whereFromTs)) for i in range(len(whereFromTs))])\n",
    "\n",
    "\n",
    "for i in range(0,len(whereFromTs)):\n",
    "    if i ==0:\n",
    "        plt.bar(timeSlots,list(list(zip(*whereFrom))[i]),label=labels.values[i])\n",
    "\n",
    "        bot = np.array(list(list(zip(*whereFrom))[i]))\n",
    "    else:\n",
    "        plt.bar(timeSlots,list(list(zip(*whereFrom))[i]),label=labels.values[i],\n",
    "               bottom=bot)\n",
    "        bot += np.array(list(list(zip(*whereFrom))[i]))\n",
    "plt.legend(loc=\"upper left\",bbox_to_anchor=(1.2,1.0))\n",
    "ax.set_xticklabels(timeSlots,rotation='vertical')\n",
    "ax.set_title(\"Movements by origin in \" + zonaStore)\n",
    "plt.show()\n"
   ]
  },
  {
   "cell_type": "code",
   "execution_count": null,
   "id": "9df474c8",
   "metadata": {},
   "outputs": [],
   "source": [
    "import plotly.express as px\n",
    "origindf = pd.DataFrame(list(list(zip(*whereFrom))), columns =timeSlots).T\n",
    "origindf.columns = labels\n",
    "fig = px.bar(origindf, x=timeSlots,y = origindf.columns, title=\"Movements by origin in \" + zonaStore)\n",
    "fig.update_layout(\n",
    "    xaxis = dict(\n",
    "        tickmode = 'array',\n",
    "        tickvals = origindf.index,\n",
    "        ticktext = timeSlots)\n",
    ")\n",
    "\n",
    "fig.show()"
   ]
  },
  {
   "cell_type": "markdown",
   "id": "1b088dd2",
   "metadata": {},
   "source": [
    "#### More in depth on Milan"
   ]
  },
  {
   "cell_type": "code",
   "execution_count": null,
   "id": "6137d03f",
   "metadata": {
    "scrolled": false
   },
   "outputs": [],
   "source": [
    "#Get where are from\n",
    "totMovTimeSlotMilan = []\n",
    "whereFromMilan = []\n",
    "for ts in timeSlots:\n",
    "    movdf = currMov.loc[(currMov[\"FASCIA_ORARIA\"] == ts) &(currMov[\"PROV_ORIG\"] == \"MI\")]#Get all movements for ts\n",
    "    currGroup = movdf.groupby(['ZONA_ORIG'], as_index=False).sum()\n",
    "    whereFromTs = []\n",
    "    for zog in currGroup.ZONA_ORIG:#For each province\n",
    "        whereFromTs.append(currGroup.loc[currGroup[\"ZONA_ORIG\"]== zog].sum()[1:].sum())#Get all movements from province and save\n",
    "    whereFromMilan.append(whereFromTs)\n",
    "    totMovTimeSlotMilan.append(sum(whereFromTs))\n",
    "labelsMilan = currGroup.ZONA_ORIG\n",
    "\n",
    "\n",
    "origindf = pd.DataFrame(list(list(zip(*whereFromMilan))), columns =timeSlots).T\n",
    "origindf.columns = labelsMilan\n",
    "import warnings\n",
    "with warnings.catch_warnings():\n",
    "    warnings.simplefilter('ignore')\n",
    "    fig = px.bar(origindf, x=timeSlots,y = origindf.columns, \n",
    "             title=\"Movements by origin in \" + zonaStore + \"(Milan province only)\")\n",
    "fig.update_layout(\n",
    "    xaxis = dict(\n",
    "        tickmode = 'array',\n",
    "        tickvals = origindf.index,\n",
    "        ticktext = timeSlots)\n",
    ")\n",
    "\n",
    "fig.show()"
   ]
  },
  {
   "cell_type": "code",
   "execution_count": null,
   "id": "e1a13368",
   "metadata": {},
   "outputs": [],
   "source": [
    "#Get where are from\n",
    "totMovTimeSlotMilanCity = []\n",
    "whereFromMilanCity = []\n",
    "for ts in timeSlots:\n",
    "    movdf = currMov.loc[(currMov[\"FASCIA_ORARIA\"] == ts) &(currMov[\"ZONA_ORIG\"].str.contains(\"MILANO\"))]#Get all movements for ts\n",
    "    currGroup = movdf.groupby(['ZONA_ORIG'], as_index=False).sum()\n",
    "    whereFromTs = []\n",
    "    for zog in currGroup.ZONA_ORIG:#For each province\n",
    "        whereFromTs.append(currGroup.loc[currGroup[\"ZONA_ORIG\"]== zog].sum()[1:].sum())#Get all movements from province and save\n",
    "    whereFromMilanCity.append(whereFromTs)\n",
    "    totMovTimeSlotMilanCity.append(sum(whereFromTs))\n",
    "\n",
    "labelsMilanCity = currGroup.ZONA_ORIG\n",
    "\n",
    "\n",
    "origindf = pd.DataFrame(list(list(zip(*whereFromMilanCity))), columns =timeSlots).T\n",
    "origindf.columns = labelsMilanCity\n",
    "fig = px.bar(origindf.copy(), x=timeSlots,y = origindf.copy().columns, \n",
    "             title=\"Movements by origin in \" + zonaStore + \"(Milan city only)\")\n",
    "fig.update_layout(\n",
    "    xaxis = dict(\n",
    "        tickmode = 'array',\n",
    "        tickvals = origindf.index,\n",
    "        ticktext = timeSlots)\n",
    ")\n",
    "\n",
    "fig.show()\n"
   ]
  },
  {
   "cell_type": "markdown",
   "id": "ed87f6fa",
   "metadata": {},
   "source": [
    "#### How people arrived there"
   ]
  },
  {
   "cell_type": "code",
   "execution_count": null,
   "id": "1742a93b",
   "metadata": {},
   "outputs": [],
   "source": [
    "#Get how they arrived there\n",
    "fig = plt.figure()\n",
    "ax = fig.add_axes([0,0,1,1])\n",
    "howArrive = []\n",
    "for ts in timeSlots:\n",
    "    movdf = currMov.loc[currMov[\"FASCIA_ORARIA\"] == ts].sum()[5:].to_frame().T#Get all movements for ts\n",
    "    howArrivets = []\n",
    "    for typ in movTypes:#For each movement type (CAR, bike etc)\n",
    "        filter_col = [col for col in mov if col.endswith(typ)]\n",
    "        howArrivets.append(movdf[filter_col].sum().sum())\n",
    "    howArrive.append(howArrivets)\n",
    "    \n",
    "for i in range(0,len(movTypes)):\n",
    "    if i ==0:\n",
    "        plt.bar(timeSlots,list(list(zip(*howArrive))[i]),label=movTypes[i])\n",
    "        bot = np.array(list(list(zip(*howArrive))[i]))\n",
    "    else:\n",
    "        plt.bar(timeSlots,list(list(zip(*howArrive))[i]),label=movTypes[i],\n",
    "               bottom=bot)\n",
    "        bot += np.array(list(list(zip(*howArrive))[i]))\n",
    "plt.legend(loc=\"upper left\",bbox_to_anchor=(0.8,1.0))\n",
    "ax.set_xticklabels(timeSlots,rotation='vertical')\n",
    "ax.set_title(\"Movements by type in \" + zonaStore)\n",
    "plt.show()\n"
   ]
  },
  {
   "cell_type": "markdown",
   "id": "9fa01b16",
   "metadata": {},
   "source": [
    "#### Why people arrived there"
   ]
  },
  {
   "cell_type": "code",
   "execution_count": null,
   "id": "020ef4a5",
   "metadata": {},
   "outputs": [],
   "source": [
    "#Get why they arrived there\n",
    "fig = plt.figure()\n",
    "ax = fig.add_axes([0,0,1,1])\n",
    "whyArrive = []\n",
    "for ts in timeSlots:\n",
    "    movdf = currMov.loc[currMov[\"FASCIA_ORARIA\"] == ts].sum()[5:].to_frame().T#Get all movements for ts\n",
    "    whyArrivets = []\n",
    "    for typ in movReason:#For each movement type (CAR, bike etc)\n",
    "        filter_col = [col for col in mov if col.startswith(typ)]\n",
    "        whyArrivets.append(movdf[filter_col].sum().sum())\n",
    "    whyArrive.append(whyArrivets)\n",
    "    \n",
    "for i in range(0,len(movReason)):\n",
    "    if i ==0:\n",
    "        plt.bar(timeSlots,list(list(zip(*whyArrive))[i]),label=movReason[i])\n",
    "        bot = np.array(list(list(zip(*whyArrive))[i]))\n",
    "    else:\n",
    "        plt.bar(timeSlots,list(list(zip(*whyArrive))[i]),label=movReason[i],\n",
    "               bottom=bot)\n",
    "        bot += np.array(list(list(zip(*whyArrive))[i]))\n",
    "plt.legend(loc=\"upper left\",bbox_to_anchor=(0.8,1.0))\n",
    "ax.set_xticklabels(timeSlots,rotation='vertical')\n",
    "ax.set_title(\"Movements by reason in \" + zonaStore)\n",
    "plt.show()\n"
   ]
  },
  {
   "cell_type": "markdown",
   "id": "2d443ab3",
   "metadata": {},
   "source": [
    "### Apply analysis to store movements"
   ]
  },
  {
   "cell_type": "markdown",
   "id": "f6d9d5bf",
   "metadata": {},
   "source": [
    "### Where are the people outside store from"
   ]
  },
  {
   "cell_type": "markdown",
   "id": "a5644bca",
   "metadata": {},
   "source": [
    "N.B. The data is statistical and can be different from reality especially with low values (outside of rush hours)"
   ]
  },
  {
   "cell_type": "code",
   "execution_count": null,
   "id": "cef4b030",
   "metadata": {},
   "outputs": [],
   "source": [
    "ds1"
   ]
  },
  {
   "cell_type": "code",
   "execution_count": null,
   "id": "327e402b",
   "metadata": {},
   "outputs": [],
   "source": [
    "ds1Where = ds1.copy()\n",
    "whereData = (np.asarray(whereFrom).T/totMovTimeSlot).T\n",
    "whereucAll = []\n",
    "ch = []\n",
    "for col in ds1Where.columns:\n",
    "    if col != \"Date\":\n",
    "        for i in range(0,len(totMovTimeSlot)):\n",
    "            choices = np.random.choice(labels, ds1Where[col][i], p=whereData[i])\n",
    "            (unique, counts) = np.unique(choices, return_counts=True)\n",
    "            ch.append((unique, counts))\n",
    "#             unique = unique[counts>2]#CAN BE ADJUSTED\n",
    "#             counts = counts[counts>2]#\n",
    "            whereucAll.append((unique, counts))\n",
    "            ds1Where[col][i]=np.char.add(np.char.add(unique.astype(str),\":\"), counts.astype(str))\n",
    "ds1Where.loc[ds1Where[\"Date\"].isin(interestedSlots)]"
   ]
  },
  {
   "cell_type": "markdown",
   "id": "cb5aca0f",
   "metadata": {},
   "source": [
    "##### See where they come from in Milan and estimate type of people"
   ]
  },
  {
   "cell_type": "code",
   "execution_count": null,
   "id": "7eb9e405",
   "metadata": {
    "scrolled": false
   },
   "outputs": [],
   "source": [
    "whereDataMilan = (np.asarray(whereFromMilan).T/totMovTimeSlotMilan).T\n",
    "chMil = []\n",
    "whereucMi = []\n",
    "count = 0\n",
    "for col in ds1Where.columns:\n",
    "    if col != \"Date\": \n",
    "        for i in range(0,len(totMovTimeSlotMilan)):\n",
    "            if np.where(ch[i + count*24][0] == \"MI\")[0].size != 0: #If there are people moving from Milan\n",
    "                choices = np.random.choice(labelsMilan, \n",
    "                                           ch[i + count*24][1][np.where(ch[i + count*24][0] == \"MI\")[0]], \n",
    "                                           p=whereDataMilan[i])\n",
    "                (unique, counts) = np.unique(choices, return_counts=True)\n",
    "                whereucMi.append((unique, counts))\n",
    "#                 unique = unique[counts>2]#CAN BE ADJUSTED\n",
    "#                 counts = counts[counts>2]#\n",
    "                chMil.append((unique, counts,col,i))\n",
    "                ds1Where[col][i]=np.concatenate(\n",
    "                    (np.delete(ds1Where[col][i],np.flatnonzero(np.core.defchararray.find(ds1Where[col][i],\"MI\")!=-1)),#Remove MI\n",
    "                    np.char.add(np.char.add(unique.astype(str),\":\"), counts.astype(str))))#Add more specific\n",
    "            else:\n",
    "                whereucMi.append((0,0))\n",
    "                \n",
    "        count+=1\n",
    "\n",
    "ds1Where.loc[ds1Where[\"Date\"].isin(interestedSlots)]"
   ]
  },
  {
   "cell_type": "markdown",
   "id": "19cc8137",
   "metadata": {},
   "source": [
    "#### See what kind of person"
   ]
  },
  {
   "cell_type": "code",
   "execution_count": null,
   "id": "10f24909",
   "metadata": {},
   "outputs": [],
   "source": [
    "import re\n",
    "from itertools import repeat\n",
    "\n",
    "ds1Who = ds1.copy()\n",
    "whouc =list(repeat((0,0), len(whereucMi)))\n",
    "\n",
    "for cell in chMil:#Get movements from Milan city\n",
    "    choices =  np.array([])\n",
    "    for i in np.argwhere(np.in1d(cell[0], milanZones)).ravel():#For each movement\n",
    "        #Get municipi in interested zone \n",
    "        #For each see population\n",
    "        for n in munMov[int(re.search(r'\\d+', cell[0][i]).group())]:\n",
    "            #Draw\n",
    "            choice = np.random.choice(popMilano.loc[popMilano[\"Municipio\"] == n][\"Classe_eta_capofamiglia\"], \n",
    "                                       cell[1][i]-int(cell[1][i]/len(munMov[int(re.search(r'\\d+', cell[0][i]).group())])), \n",
    "                                       p=popMilano.loc[popMilano[\"Municipio\"] == n][\"Distribution\"])\n",
    "            #Save\n",
    "            choices = np.concatenate((choices,choice))\n",
    "    #Group together\n",
    "    (u, c) = np.unique(choices, return_counts=True)\n",
    "    whouc[cell[3]+(ds1.columns.get_loc(cell[2])-1)*24] = (u, c)\n",
    "    ds1Who[cell[2]][cell[3]]=np.char.add(np.char.add(u.astype(str),\":\"), c.astype(str))\n",
    "ds1Who.loc[ds1Who[\"Date\"].isin(interestedSlots)]"
   ]
  },
  {
   "cell_type": "markdown",
   "id": "43751073",
   "metadata": {},
   "source": [
    "Data driven --> tipi di famiglia"
   ]
  },
  {
   "cell_type": "markdown",
   "id": "502b6e74",
   "metadata": {},
   "source": [
    "### How does the people arrive there"
   ]
  },
  {
   "cell_type": "code",
   "execution_count": null,
   "id": "e92a8fa6",
   "metadata": {
    "scrolled": false
   },
   "outputs": [],
   "source": [
    "ds1How = ds1.copy()\n",
    "howuc = []\n",
    "howData = (np.asarray(howArrive).T/totMovTimeSlot).T\n",
    "for col in ds1How.columns:\n",
    "    if col != \"Date\":\n",
    "        for i in range(0,len(totMovTimeSlot)):\n",
    "            choices = np.random.choice(movTypes, ds1How[col][i], p=howData[i])\n",
    "            (unique, counts) = np.unique(choices, return_counts=True)\n",
    "#             unique = unique[counts>5]#CAN BE ADJUSTED\n",
    "#             counts = counts[counts>5]#\n",
    "            howuc.append((unique, counts))\n",
    "            ds1How[col][i]=np.char.add(np.char.add(unique.astype(str),\":\"), counts.astype(str))\n",
    "ds1How.loc[ds1How[\"Date\"].isin(interestedSlots)]"
   ]
  },
  {
   "cell_type": "markdown",
   "id": "81e4704e",
   "metadata": {},
   "source": [
    "Data driven--> percheggio e necessità trasporti"
   ]
  },
  {
   "cell_type": "markdown",
   "id": "8c66ff07",
   "metadata": {},
   "source": [
    "### Why does the people arrive there"
   ]
  },
  {
   "cell_type": "code",
   "execution_count": null,
   "id": "8b0378b1",
   "metadata": {},
   "outputs": [],
   "source": [
    "ds1Why = ds1.copy()\n",
    "whyuc= []\n",
    "whyData = (np.asarray(whyArrive).T/totMovTimeSlot).T\n",
    "for col in ds1Why.columns:\n",
    "    if col != \"Date\":\n",
    "        for i in range(0,len(totMovTimeSlot)):\n",
    "            choices = np.random.choice(movReason, ds1Why[col][i], p=whyData[i])\n",
    "            (unique, counts) = np.unique(choices, return_counts=True)\n",
    "#             unique = unique[counts>10]#CAN BE ADJUSTED\n",
    "#             counts = counts[counts>10]#\n",
    "            whyuc.append((unique, counts))\n",
    "            ds1Why[col][i]=np.char.add(np.char.add(unique.astype(str),\":\"), counts.astype(str))\n",
    "ds1Why.loc[ds1Why[\"Date\"].isin(interestedSlots)]"
   ]
  },
  {
   "cell_type": "markdown",
   "id": "5ec2fb30",
   "metadata": {},
   "source": [
    "Data driven--> offerte per tipologia o differenti bisogni"
   ]
  },
  {
   "cell_type": "markdown",
   "id": "2f5693d9",
   "metadata": {},
   "source": [
    "## Graphs"
   ]
  },
  {
   "cell_type": "code",
   "execution_count": null,
   "id": "483af76e",
   "metadata": {},
   "outputs": [],
   "source": [
    "col = random.randint(1, len(ds1)-1)\n"
   ]
  },
  {
   "cell_type": "markdown",
   "id": "f1e559a7",
   "metadata": {},
   "source": [
    "## Age groups"
   ]
  },
  {
   "cell_type": "markdown",
   "id": "51237b2a",
   "metadata": {},
   "source": [
    "#### See if correct distribution through histograms"
   ]
  },
  {
   "cell_type": "code",
   "execution_count": null,
   "id": "24dcf6a0",
   "metadata": {},
   "outputs": [],
   "source": [
    "currDay = whouc[col*24:(col+1)*24]\n",
    "\n",
    "fig = plt.figure()\n",
    "color = [\"Blue\", \"Green\", \"Red\", \"Pink\", \"Yellow\", \"Purple\", \"Grey\", \"Lime\", \"Black\"]\n",
    "ax = fig.add_axes([0,0,1,1])\n",
    "ceta = popMilano[\"Classe_eta_capofamiglia\"].unique()\n",
    "for r in range(0,len(ceta)):\n",
    "    currReason = []\n",
    "    for i in range (0,len(currDay)):\n",
    "        if len(np.where(currDay[i][0] == ceta[r])[0]) !=0:\n",
    "            loc = np.where(currDay[i][0] == ceta[r])[0].item()\n",
    "            currReason.append(currDay[i][1][loc])\n",
    "        else:\n",
    "            currReason.append(0)\n",
    "    if r ==0:\n",
    "        plt.bar(timeSlots,currReason,label=ceta[r], color = color[r])\n",
    "        bot = currReason\n",
    "    else:\n",
    "        plt.bar(timeSlots,currReason,label=ceta[r], color = color[r],\n",
    "               bottom=bot)\n",
    "        bot = np.add(bot,currReason)\n",
    "plt.legend(loc=\"upper left\",bbox_to_anchor=(1.0,1.0))\n",
    "ax.set_xticklabels(timeSlots,rotation='vertical')\n",
    "ax.set_title(\"Movements by type in \" + zonaStore)\n",
    "plt.show()"
   ]
  },
  {
   "cell_type": "markdown",
   "id": "0c9b763a",
   "metadata": {},
   "source": [
    "#### 7 subplots for each age group"
   ]
  },
  {
   "cell_type": "code",
   "execution_count": null,
   "id": "a33b377b",
   "metadata": {
    "scrolled": false
   },
   "outputs": [],
   "source": [
    "plt.figure(figsize=(16, 16)) \n",
    "plt.subplots_adjust(top=1.9,\n",
    "                    bottom=0.1)\n",
    "currTot = []\n",
    "for r in range(0,len(ceta)):\n",
    "    plt.subplot(4, 2, r+1)\n",
    "\n",
    "    currReason = []\n",
    "    for i in range (0,len(currDay)):\n",
    "        if len(np.where(currDay[i][0] == ceta[r])[0]) !=0:\n",
    "            loc = np.where(currDay[i][0] == ceta[r])[0].item()\n",
    "            currReason.append(currDay[i][1][loc])\n",
    "        else:\n",
    "            currReason.append(0)\n",
    "    plt.bar(timeSlots,currReason,label=ceta[r], color = color[r])\n",
    "    plt.title(ceta[r])\n",
    "    plt.xticks(timeSlots,rotation='vertical')\n",
    "    currTot.append(currReason)\n",
    "\n"
   ]
  },
  {
   "cell_type": "markdown",
   "id": "16cbd40f",
   "metadata": {},
   "source": [
    "#### Stacked area chart "
   ]
  },
  {
   "cell_type": "code",
   "execution_count": null,
   "id": "5d6232fd",
   "metadata": {},
   "outputs": [],
   "source": [
    "plt.stackplot(timeSlots, currTot,labels=ceta,colors = color)\n",
    "plt.title(\"Stacked area chart\")\n",
    "plt.xticks(timeSlots,rotation='vertical')\n",
    "plt.legend(loc='upper left')"
   ]
  },
  {
   "cell_type": "code",
   "execution_count": null,
   "id": "8ae33d5c",
   "metadata": {},
   "outputs": [],
   "source": [
    "y = np.row_stack((currTot))\n",
    "percent = y /  y.sum(axis=0).astype(float) * 100 \n",
    "\n",
    "plt.stackplot(timeSlots, percent,labels=ceta,colors = color)\n",
    "plt.title('100 % stacked area chart')\n",
    "plt.ylabel('Percent (%)')\n",
    "plt.margins(0, 0) # Set margins to avoid \"whitespace\"\n",
    "plt.xticks(timeSlots,rotation='vertical')\n",
    "plt.legend(loc='upper right',bbox_to_anchor=(1.4,1.0))"
   ]
  },
  {
   "cell_type": "markdown",
   "id": "04c28467",
   "metadata": {},
   "source": [
    "#### Cum distribution (for age groups)"
   ]
  },
  {
   "cell_type": "code",
   "execution_count": null,
   "id": "512744d0",
   "metadata": {},
   "outputs": [],
   "source": [
    "for c in range (0,len(currTot)):\n",
    "    plt.plot(timeSlots, np.cumsum(currTot[c])/np.sum(currTot[c]), label=ceta[c],color = color[c])\n",
    "plt.ylabel('Percent (%)')\n",
    "plt.title('Cumulative distribution')\n",
    "plt.margins(0, 0) # Set margins to avoid \"whitespace\"\n",
    "plt.xticks(timeSlots,rotation='vertical')\n",
    "plt.legend(loc='upper right',bbox_to_anchor=(1.4,1.0))"
   ]
  },
  {
   "cell_type": "code",
   "execution_count": null,
   "id": "d54f91c2",
   "metadata": {},
   "outputs": [],
   "source": [
    "for c in range (0,len(currTot)):\n",
    "    plt.plot(timeSlots, currTot[c], label=ceta[c],color = color[c])\n",
    "plt.ylabel('Values')\n",
    "plt.title('Line chart')\n",
    "plt.margins(0, 0) # Set margins to avoid \"whitespace\"\n",
    "plt.xticks(timeSlots,rotation='vertical')\n",
    "plt.legend(loc='upper right',bbox_to_anchor=(1.4,1.0))\n",
    "plt.plot(timeSlots, currTot[0])"
   ]
  },
  {
   "cell_type": "markdown",
   "id": "1aff0e37",
   "metadata": {},
   "source": [
    "## Reason"
   ]
  },
  {
   "cell_type": "code",
   "execution_count": null,
   "id": "47248de6",
   "metadata": {},
   "outputs": [],
   "source": [
    "currDay = whyuc[col*24:(col+1)*24]\n",
    "\n",
    "fig = plt.figure()\n",
    "ax = fig.add_axes([0,0,1,1])\n",
    "\n",
    "for r in range(0,len(movReason)):\n",
    "    currReason = []\n",
    "    for i in range (0,len(currDay)):\n",
    "        if len(np.where(currDay[i][0] == movReason[r])[0]) !=0:\n",
    "            loc = np.where(currDay[i][0] == movReason[r])[0].item()\n",
    "            currReason.append(currDay[i][1][loc])\n",
    "        else:\n",
    "            currReason.append(0)\n",
    "    if r ==0:\n",
    "        plt.bar(timeSlots,currReason,label=movReason[r],color = color[r])\n",
    "        bot = currReason\n",
    "    else:\n",
    "        plt.bar(timeSlots,currReason,label=movReason[r],color = color[r],\n",
    "               bottom=bot)\n",
    "        bot = np.add(bot,currReason)\n",
    "plt.legend(loc=\"upper left\",bbox_to_anchor=(0.8,1.0))\n",
    "ax.set_xticklabels(timeSlots,rotation='vertical')\n",
    "ax.set_title(\"Movements by reason in \" + zonaStore)\n",
    "plt.show()"
   ]
  },
  {
   "cell_type": "code",
   "execution_count": null,
   "id": "5e4785f2",
   "metadata": {
    "scrolled": false
   },
   "outputs": [],
   "source": [
    "plt.figure(figsize=(16, 16)) \n",
    "plt.subplots_adjust(top=1.3,\n",
    "                    bottom=0.001)\n",
    "currTot = []\n",
    "for r in range(0,len(movReason)):\n",
    "    plt.subplot(3, 2, r+1)\n",
    "\n",
    "    currReason = []\n",
    "    for i in range (0,len(currDay)):\n",
    "        if len(np.where(currDay[i][0] == movReason[r])[0]) !=0:\n",
    "            loc = np.where(currDay[i][0] == movReason[r])[0].item()\n",
    "            currReason.append(currDay[i][1][loc])\n",
    "        else:\n",
    "            currReason.append(0)\n",
    "    plt.bar(timeSlots,currReason,label=movReason[r], color = color[r])\n",
    "    plt.title(movReason[r])\n",
    "    plt.xticks(timeSlots,rotation='vertical')\n",
    "    currTot.append(currReason)\n",
    "\n"
   ]
  },
  {
   "cell_type": "code",
   "execution_count": null,
   "id": "347588c1",
   "metadata": {},
   "outputs": [],
   "source": [
    "plt.stackplot(timeSlots, currTot,\n",
    "              labels=movReason,colors = color)\n",
    "plt.title(\"Stacked area chart\")\n",
    "plt.xticks(timeSlots,rotation='vertical')\n",
    "plt.legend(loc='upper left')"
   ]
  },
  {
   "cell_type": "code",
   "execution_count": null,
   "id": "cf8d00a3",
   "metadata": {},
   "outputs": [],
   "source": [
    "y = np.row_stack((currTot))\n",
    "percent = y /  y.sum(axis=0).astype(float) * 100 \n",
    "\n",
    "plt.stackplot(timeSlots, percent,labels=movReason,colors = color)\n",
    "plt.title('100 % stacked area chart')\n",
    "plt.ylabel('Percent (%)')\n",
    "plt.margins(0, 0) # Set margins to avoid \"whitespace\"\n",
    "plt.xticks(timeSlots,rotation='vertical')\n",
    "plt.legend(loc='upper right',bbox_to_anchor=(1.4,1.0))"
   ]
  },
  {
   "cell_type": "code",
   "execution_count": null,
   "id": "d709f76c",
   "metadata": {},
   "outputs": [],
   "source": [
    "for c in range (0,len(currTot)):\n",
    "    plt.plot(timeSlots, np.cumsum(currTot[c])/np.sum(currTot[c]), label=movReason[c],color = color[c])\n",
    "plt.ylabel('Percent (%)')\n",
    "plt.title('Cumulative distribution')\n",
    "plt.margins(0, 0) # Set margins to avoid \"whitespace\"\n",
    "plt.xticks(timeSlots,rotation='vertical')\n",
    "plt.legend(loc='upper right',bbox_to_anchor=(1.2,1.0))"
   ]
  },
  {
   "cell_type": "code",
   "execution_count": null,
   "id": "c8dfbb49",
   "metadata": {},
   "outputs": [],
   "source": [
    "for c in range (0,len(currTot)):\n",
    "    plt.plot(timeSlots, currTot[c], label=movReason[c],color = color[c])\n",
    "plt.ylabel('Values')\n",
    "plt.title('Line chart')\n",
    "plt.margins(0, 0) # Set margins to avoid \"whitespace\"\n",
    "plt.xticks(timeSlots,rotation='vertical')\n",
    "plt.legend(loc='upper right',bbox_to_anchor=(1.4,1.0))\n",
    "plt.plot(timeSlots, currTot[0])"
   ]
  },
  {
   "cell_type": "markdown",
   "id": "3070f445",
   "metadata": {},
   "source": [
    "## How"
   ]
  },
  {
   "cell_type": "code",
   "execution_count": null,
   "id": "5e3bb7d7",
   "metadata": {},
   "outputs": [],
   "source": [
    "currDay = howuc[col*24:(col+1)*24]\n",
    "\n",
    "fig = plt.figure()\n",
    "ax = fig.add_axes([0,0,1,1])\n",
    "\n",
    "for r in range(0,len(movTypes)):\n",
    "    currReason = []\n",
    "    for i in range (0,len(currDay)):\n",
    "        if len(np.where(currDay[i][0] == movTypes[r])[0]) !=0:\n",
    "            loc = np.where(currDay[i][0] == movTypes[r])[0].item()\n",
    "            currReason.append(currDay[i][1][loc])\n",
    "        else:\n",
    "            currReason.append(0)\n",
    "    if r ==0:\n",
    "        plt.bar(timeSlots,currReason,label=movTypes[r])\n",
    "        bot = currReason\n",
    "    else:\n",
    "        plt.bar(timeSlots,currReason,label=movTypes[r],\n",
    "               bottom=bot)\n",
    "        bot = np.add(bot,currReason)\n",
    "plt.legend(loc=\"upper left\",bbox_to_anchor=(0.8,1.0))\n",
    "ax.set_xticklabels(timeSlots,rotation='vertical')\n",
    "ax.set_title(\"Movements by type in \" + zonaStore)\n",
    "plt.show()\n"
   ]
  },
  {
   "cell_type": "code",
   "execution_count": null,
   "id": "6dffcbf1",
   "metadata": {
    "scrolled": false
   },
   "outputs": [],
   "source": [
    "plt.figure(figsize=(16, 16)) \n",
    "plt.subplots_adjust(top=1.9,\n",
    "                    bottom=0.001)\n",
    "currTot = []\n",
    "for r in range(0,len(movTypes)):\n",
    "    plt.subplot(4, 2, r+1)\n",
    "\n",
    "    currReason = []\n",
    "    for i in range (0,len(currDay)):\n",
    "        if len(np.where(currDay[i][0] == movTypes[r])[0]) !=0:\n",
    "            loc = np.where(currDay[i][0] == movTypes[r])[0].item()\n",
    "            currReason.append(currDay[i][1][loc])\n",
    "        else:\n",
    "            currReason.append(0)\n",
    "    plt.bar(timeSlots,currReason,label=movTypes[r], color = color[r])\n",
    "    plt.title(movTypes[r])\n",
    "    plt.xticks(timeSlots,rotation='vertical')\n",
    "    currTot.append(currReason)\n",
    "\n"
   ]
  },
  {
   "cell_type": "code",
   "execution_count": null,
   "id": "385ce353",
   "metadata": {},
   "outputs": [],
   "source": [
    "plt.stackplot(timeSlots, currTot,\n",
    "              labels=movTypes,colors = color)\n",
    "plt.title(\"Stacked area chart\")\n",
    "plt.xticks(timeSlots,rotation='vertical')\n",
    "plt.legend(loc='upper left')"
   ]
  },
  {
   "cell_type": "code",
   "execution_count": null,
   "id": "463e44cf",
   "metadata": {},
   "outputs": [],
   "source": [
    "y = np.row_stack((currTot))\n",
    "percent = y /  y.sum(axis=0).astype(float) * 100 \n",
    "\n",
    "plt.stackplot(timeSlots, percent,labels=movTypes,colors = color)\n",
    "plt.title('100 % stacked area chart')\n",
    "plt.ylabel('Percent (%)')\n",
    "plt.margins(0, 0) # Set margins to avoid \"whitespace\"\n",
    "plt.xticks(timeSlots,rotation='vertical')\n",
    "plt.legend(loc='upper right',bbox_to_anchor=(1.4,1.0))"
   ]
  },
  {
   "cell_type": "code",
   "execution_count": null,
   "id": "3a2fe3c6",
   "metadata": {},
   "outputs": [],
   "source": [
    "for c in range (0,len(currTot)):\n",
    "    plt.plot(timeSlots, np.cumsum(currTot[c])/np.sum(currTot[c]), label=movTypes[c],color = color[c])\n",
    "plt.ylabel('Percent (%)')\n",
    "plt.title('Cumulative distribution')\n",
    "plt.margins(0, 0) # Set margins to avoid \"whitespace\"\n",
    "plt.xticks(timeSlots,rotation='vertical')\n",
    "plt.legend(loc='upper right',bbox_to_anchor=(1.2,1.0))"
   ]
  },
  {
   "cell_type": "code",
   "execution_count": null,
   "id": "f3eb03b8",
   "metadata": {},
   "outputs": [],
   "source": [
    "for c in range (0,len(currTot)):\n",
    "    plt.plot(timeSlots, currTot[c], label=movTypes[c],color = color[c])\n",
    "plt.ylabel('Values')\n",
    "plt.title('Line chart')\n",
    "plt.margins(0, 0) # Set margins to avoid \"whitespace\"\n",
    "plt.xticks(timeSlots,rotation='vertical')\n",
    "plt.legend(loc='upper right',bbox_to_anchor=(1.4,1.0))\n",
    "plt.plot(timeSlots, currTot[0])"
   ]
  },
  {
   "cell_type": "markdown",
   "id": "b912598a",
   "metadata": {},
   "source": [
    "## From where"
   ]
  },
  {
   "cell_type": "code",
   "execution_count": null,
   "id": "4eb95bdf",
   "metadata": {},
   "outputs": [],
   "source": [
    "currDay = whereucAll[col*24:(col+1)*24]\n",
    "\n",
    "whereFrom = []\n",
    "for ts in timeSlots:\n",
    "    movdf = currMov.loc[currMov[\"FASCIA_ORARIA\"] == ts]#Get all movements for ts\n",
    "    currGroup = movdf.groupby(['PROV_ORIG'], as_index=False).sum()\n",
    "    whereFromTs = []\n",
    "    for pog in currGroup.PROV_ORIG:#For each province\n",
    "        whereFromTs.append(currGroup.loc[currGroup[\"PROV_ORIG\"]== pog].sum()[1:].sum())#Get all movements from province and save\n",
    "    whereFrom.append(whereFromTs)\n",
    "\n",
    "currReasonTot = []\n",
    "for r in range(0,len(whereFromTs)):\n",
    "    currReason = []\n",
    "    for i in range (0,len(currDay)):\n",
    "        if len(np.where(currDay[i][0] == labels.values[r])[0]) !=0:\n",
    "            loc = np.where(currDay[i][0] == labels.values[r])[0].item()\n",
    "            currReason.append(currDay[i][1][loc])\n",
    "        else:\n",
    "            currReason.append(0)\n",
    "    currReasonTot.append(currReason)\n",
    "\n",
    "origindf = pd.DataFrame(currReasonTot, columns =timeSlots).T\n",
    "origindf.columns = labels\n",
    "fig = px.bar(origindf, x=timeSlots,y = origindf.columns, title=\"Movements by origin in \" + zonaStore)\n",
    "fig.update_layout(\n",
    "    xaxis = dict(\n",
    "        tickmode = 'array',\n",
    "        tickvals = origindf.index,\n",
    "        ticktext = timeSlots)\n",
    ")\n",
    "\n",
    "fig.show()\n"
   ]
  },
  {
   "cell_type": "code",
   "execution_count": null,
   "id": "b9635aee",
   "metadata": {},
   "outputs": [],
   "source": [
    "fig = plt.figure()\n",
    "ax = fig.add_axes([0,0,1,1])\n",
    "\n",
    "cm = plt.get_cmap('gist_rainbow')\n",
    "ax.set_prop_cycle('color', [cm(1.*i/len(whereFromTs)) for i in range(len(whereFromTs))])\n",
    "ax.stackplot(timeSlots, currReasonTot,\n",
    "              labels=labels)\n",
    "ax.set_title(\"Stacked area chart\")\n",
    "ax.set_xticks(timeSlots,rotation='vertical')\n",
    "ax.legend(loc='upper left',bbox_to_anchor=(1.0,1.0))\n"
   ]
  },
  {
   "cell_type": "code",
   "execution_count": null,
   "id": "8048d2b7",
   "metadata": {},
   "outputs": [],
   "source": [
    "y = np.row_stack((currReasonTot))\n",
    "percent = y /  y.sum(axis=0).astype(float) * 100 \n",
    "\n",
    "plt.stackplot(timeSlots, percent,labels=labels,colors = color)\n",
    "plt.title('100 % stacked area chart')\n",
    "plt.ylabel('Percent (%)')\n",
    "plt.margins(0, 0) # Set margins to avoid \"whitespace\"\n",
    "plt.xticks(timeSlots,rotation='vertical')\n",
    "plt.legend(loc='upper right',bbox_to_anchor=(2.5,1.0))"
   ]
  },
  {
   "cell_type": "markdown",
   "id": "12ee92fc",
   "metadata": {},
   "source": [
    "#### Chord for each place in one timeslot"
   ]
  },
  {
   "cell_type": "code",
   "execution_count": null,
   "id": "62ca256a",
   "metadata": {},
   "outputs": [],
   "source": [
    "import holoviews as hv\n",
    "from holoviews import opts, dim\n",
    "from bokeh.sampledata.les_mis import data\n",
    "\n",
    "hv.extension('bokeh')\n",
    "hv.output(size=200)\n",
    "\n",
    "links = pd.DataFrame(data['links'])\n",
    "# print(links.head(3))\n",
    "nodes = hv.Dataset(pd.DataFrame(data['nodes']), 'index')\n",
    "print(pd.DataFrame(data['nodes']))\n",
    "nodes.data.head()\n",
    "\n",
    "df =(pd.DataFrame(currReasonTot, columns = timeSlots).T)\n",
    "df = df.T\n",
    "df[\"target\"] = 0\n",
    "df[\"source\"] = df.index\n",
    "df[\"value\"] = df[\"12:00-12:59\"] \n",
    "links = df[[\"source\",\"target\",\"value\"]]\n",
    "# links[\"value\"] = links[\"12:00-12:59\"] \n",
    "links\n",
    "# df =(pd.DataFrame(currReasonTot, columns = timeSlots).T)\n",
    "# df.columns = labels\n",
    "# df = df.T\n",
    "# nodes = hv.Dataset(df)\n",
    "chord = hv.Chord(links[links[\"value\"]>0])#.select(value=(5, None))\n",
    "# # chord.opts(\n",
    "# #     opts.Chord(cmap='Category20', edge_cmap='Category20', edge_color=dim('01:00-01:59').str(), \n",
    "# #                labels='PROV_ORIG', node_color=dim('index').str()))\n",
    "chord\n",
    "# links[links[\"value\"]>0]"
   ]
  },
  {
   "cell_type": "markdown",
   "id": "cc637043",
   "metadata": {},
   "source": [
    "#### Chord for each timeslot from everywhere"
   ]
  },
  {
   "cell_type": "code",
   "execution_count": null,
   "id": "ba5b1ef0",
   "metadata": {
    "scrolled": false
   },
   "outputs": [],
   "source": [
    "currDay = whereucMi[col*24:(col+1)*24]\n",
    "\n",
    "totMovTimeSlotMilan = []\n",
    "whereFromMilan = []\n",
    "for ts in timeSlots:\n",
    "    movdf = currMov.loc[(currMov[\"FASCIA_ORARIA\"] == ts) &(currMov[\"PROV_ORIG\"] == \"MI\")]#Get all movements for ts\n",
    "    currGroup = movdf.groupby(['ZONA_ORIG'], as_index=False).sum()\n",
    "    whereFromTs = []\n",
    "    for zog in currGroup.ZONA_ORIG:#For each province\n",
    "        whereFromTs.append(currGroup.loc[currGroup[\"ZONA_ORIG\"]== zog].sum()[1:].sum())#Get all movements from province and save\n",
    "    whereFromMilan.append(whereFromTs)\n",
    "    totMovTimeSlotMilan.append(sum(whereFromTs))\n",
    "labelsMilan = currGroup.ZONA_ORIG\n",
    "\n",
    "# Create a colour code cycler e.g. 'C0', 'C1', etc.\n",
    "color_codes = map('C{}'.format, cycle(range(len(whereFromTs))))\n",
    "\n",
    "cm = plt.get_cmap('gist_rainbow')\n",
    "ax.set_prop_cycle('color', [cm(1.*i/len(whereFromTs)) for i in range(len(whereFromTs))])\n",
    "\n",
    "currReasonTot = []\n",
    "for r in range(0,len(whereFromTs)):\n",
    "    currReason = []\n",
    "    for i in range (0,len(currDay)):\n",
    "        if len(np.where(currDay[i][0] == labelsMilan.values[r])[0]) !=0:\n",
    "            loc = np.where(currDay[i][0] == labelsMilan.values[r])[0].item()\n",
    "            currReason.append(currDay[i][1][loc])\n",
    "        else:\n",
    "            currReason.append(0)\n",
    "    currReasonTot.append(currReason)\n",
    "            \n",
    "origindf = pd.DataFrame(currReasonTot, columns =timeSlots).T\n",
    "origindf.columns = labelsMilan\n",
    "import warnings\n",
    "with warnings.catch_warnings():\n",
    "    warnings.simplefilter('ignore')\n",
    "    fig = px.bar(origindf, x=timeSlots,y = origindf.columns, \n",
    "             title=\"Movements by origin in \" + zonaStore + \"(Milan province only)\")\n",
    "fig.update_layout(\n",
    "    xaxis = dict(\n",
    "        tickmode = 'array',\n",
    "        tickvals = origindf.index,\n",
    "        ticktext = timeSlots)\n",
    ")"
   ]
  },
  {
   "cell_type": "code",
   "execution_count": null,
   "id": "fc40591d",
   "metadata": {},
   "outputs": [],
   "source": [
    "fig = plt.figure()\n",
    "ax = fig.add_axes([0,0,1,1])\n",
    "\n",
    "cm = plt.get_cmap('gist_rainbow')\n",
    "ax.set_prop_cycle('color', [cm(1.*i/len(whereFromTs)) for i in range(len(whereFromTs))])\n",
    "ax.stackplot(timeSlots, currReasonTot,\n",
    "              labels=labelsMilan)\n",
    "ax.set_xticks(timeSlots,rotation='vertical')\n",
    "ax.set_title(\"Stacked area chart\")\n",
    "ax.legend(loc='upper left',bbox_to_anchor=(1.0,1.0))\n"
   ]
  },
  {
   "cell_type": "code",
   "execution_count": null,
   "id": "77185aa8",
   "metadata": {},
   "outputs": [],
   "source": [
    "y = np.row_stack((currReasonTot))\n",
    "percent = y /  y.sum(axis=0).astype(float) * 100 \n",
    "\n",
    "plt.stackplot(timeSlots, percent,labels=labelsMilan,colors = color)\n",
    "plt.title('100 % stacked area chart')\n",
    "plt.ylabel('Percent (%)')\n",
    "plt.margins(0, 0) # Set margins to avoid \"whitespace\"\n",
    "plt.xticks(timeSlots,rotation='vertical')\n",
    "plt.legend(loc='upper right',bbox_to_anchor=(2.5,1.0))"
   ]
  },
  {
   "cell_type": "markdown",
   "id": "f0ea7432",
   "metadata": {},
   "source": [
    "#### Chord diagrams (for transports)"
   ]
  },
  {
   "cell_type": "code",
   "execution_count": null,
   "id": "b4627459",
   "metadata": {},
   "outputs": [],
   "source": [
    "import holoviews as hv\n",
    "from holoviews import opts, dim\n",
    "from bokeh.sampledata.les_mis import data\n",
    "\n",
    "hv.extension('bokeh')\n",
    "hv.output(size=200)\n",
    "\n",
    "links = pd.DataFrame(data['links'])\n",
    "print(links.head(3))\n",
    "nodes = hv.Dataset(pd.DataFrame(data['nodes']), 'index')\n",
    "print(pd.DataFrame(data['nodes']))\n",
    "nodes.data.head()\n",
    "chord = hv.Chord((links, nodes)).select(value=(5, None))\n",
    "chord.opts(\n",
    "    opts.Chord(cmap='Category20', edge_cmap='Category20', edge_color=dim('source').str(), \n",
    "               labels='name', node_color=dim('index').str()))"
   ]
  }
 ],
 "metadata": {
  "kernelspec": {
   "display_name": "Python (geoenv1)",
   "language": "python",
   "name": "geoenv1"
  },
  "language_info": {
   "codemirror_mode": {
    "name": "ipython",
    "version": 3
   },
   "file_extension": ".py",
   "mimetype": "text/x-python",
   "name": "python",
   "nbconvert_exporter": "python",
   "pygments_lexer": "ipython3",
   "version": "3.10.4"
  }
 },
 "nbformat": 4,
 "nbformat_minor": 5
}
